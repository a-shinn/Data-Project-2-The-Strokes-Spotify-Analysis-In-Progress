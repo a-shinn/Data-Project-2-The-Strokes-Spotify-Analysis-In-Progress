{
 "cells": [
  {
   "cell_type": "markdown",
   "id": "3923f60b",
   "metadata": {},
   "source": [
    "visualizations:\n",
    "\n",
    "map by country - popularity, top tracks"
   ]
  },
  {
   "cell_type": "code",
   "execution_count": 92,
   "id": "0f4eeb47",
   "metadata": {},
   "outputs": [],
   "source": [
    "import spotipy\n",
    "from config import CLIENT_ID, CLIENT_SECRET, PLAY_LIST, USER, DIRECT_URI\n",
    "from spotipy.oauth2 import SpotifyClientCredentials\n",
    "import pandas as pd\n",
    "import numpy as np\n",
    "from tqdm import tqdm"
   ]
  },
  {
   "cell_type": "code",
   "execution_count": 94,
   "id": "98bb1ea2",
   "metadata": {},
   "outputs": [
    {
     "name": "stderr",
     "output_type": "stream",
     "text": [
      "Test Loading Bar: 100%|██████████| 9000000/9000000 [00:01<00:00, 5364590.64it/s]\n"
     ]
    }
   ],
   "source": [
    "for i in tqdm(range(int(9e6)),desc='Test Loading Bar'):\n",
    "    pass"
   ]
  },
  {
   "cell_type": "code",
   "execution_count": 95,
   "id": "c81d0946",
   "metadata": {
    "scrolled": true
   },
   "outputs": [],
   "source": [
    "spotify = spotipy.Spotify(client_credentials_manager=SpotifyClientCredentials( client_id=CLIENT_ID,\n",
    "                                                                              client_secret=CLIENT_SECRET))\n",
    "\n",
    "the_strokes_uri = 'https://open.spotify.com/artist/0epOFNiUfyON9EYx7Tpr6V'"
   ]
  },
  {
   "cell_type": "code",
   "execution_count": 100,
   "id": "c396e7b6",
   "metadata": {},
   "outputs": [
    {
     "data": {
      "text/plain": [
       "{'album_group': 'album',\n",
       " 'album_type': 'album',\n",
       " 'artists': [{'external_urls': {'spotify': 'https://open.spotify.com/artist/0epOFNiUfyON9EYx7Tpr6V'},\n",
       "   'href': 'https://api.spotify.com/v1/artists/0epOFNiUfyON9EYx7Tpr6V',\n",
       "   'id': '0epOFNiUfyON9EYx7Tpr6V',\n",
       "   'name': 'The Strokes',\n",
       "   'type': 'artist',\n",
       "   'uri': 'spotify:artist:0epOFNiUfyON9EYx7Tpr6V'}],\n",
       " 'available_markets': ['AD',\n",
       "  'AE',\n",
       "  'AG',\n",
       "  'AL',\n",
       "  'AM',\n",
       "  'AO',\n",
       "  'AR',\n",
       "  'AT',\n",
       "  'AU',\n",
       "  'AZ',\n",
       "  'BA',\n",
       "  'BB',\n",
       "  'BD',\n",
       "  'BE',\n",
       "  'BF',\n",
       "  'BG',\n",
       "  'BH',\n",
       "  'BI',\n",
       "  'BJ',\n",
       "  'BN',\n",
       "  'BO',\n",
       "  'BR',\n",
       "  'BS',\n",
       "  'BT',\n",
       "  'BW',\n",
       "  'BY',\n",
       "  'BZ',\n",
       "  'CA',\n",
       "  'CD',\n",
       "  'CG',\n",
       "  'CH',\n",
       "  'CI',\n",
       "  'CL',\n",
       "  'CM',\n",
       "  'CO',\n",
       "  'CR',\n",
       "  'CV',\n",
       "  'CW',\n",
       "  'CY',\n",
       "  'CZ',\n",
       "  'DE',\n",
       "  'DJ',\n",
       "  'DK',\n",
       "  'DM',\n",
       "  'DO',\n",
       "  'DZ',\n",
       "  'EC',\n",
       "  'EE',\n",
       "  'EG',\n",
       "  'ES',\n",
       "  'ET',\n",
       "  'FI',\n",
       "  'FJ',\n",
       "  'FM',\n",
       "  'FR',\n",
       "  'GA',\n",
       "  'GB',\n",
       "  'GD',\n",
       "  'GE',\n",
       "  'GH',\n",
       "  'GM',\n",
       "  'GN',\n",
       "  'GQ',\n",
       "  'GR',\n",
       "  'GT',\n",
       "  'GW',\n",
       "  'GY',\n",
       "  'HK',\n",
       "  'HN',\n",
       "  'HR',\n",
       "  'HT',\n",
       "  'HU',\n",
       "  'ID',\n",
       "  'IE',\n",
       "  'IL',\n",
       "  'IN',\n",
       "  'IQ',\n",
       "  'IS',\n",
       "  'IT',\n",
       "  'JM',\n",
       "  'JO',\n",
       "  'JP',\n",
       "  'KE',\n",
       "  'KG',\n",
       "  'KH',\n",
       "  'KI',\n",
       "  'KM',\n",
       "  'KN',\n",
       "  'KR',\n",
       "  'KW',\n",
       "  'KZ',\n",
       "  'LA',\n",
       "  'LB',\n",
       "  'LC',\n",
       "  'LI',\n",
       "  'LK',\n",
       "  'LR',\n",
       "  'LS',\n",
       "  'LT',\n",
       "  'LU',\n",
       "  'LV',\n",
       "  'LY',\n",
       "  'MA',\n",
       "  'MC',\n",
       "  'MD',\n",
       "  'ME',\n",
       "  'MG',\n",
       "  'MH',\n",
       "  'MK',\n",
       "  'ML',\n",
       "  'MN',\n",
       "  'MO',\n",
       "  'MR',\n",
       "  'MT',\n",
       "  'MU',\n",
       "  'MV',\n",
       "  'MW',\n",
       "  'MX',\n",
       "  'MY',\n",
       "  'MZ',\n",
       "  'NA',\n",
       "  'NE',\n",
       "  'NG',\n",
       "  'NI',\n",
       "  'NL',\n",
       "  'NO',\n",
       "  'NP',\n",
       "  'NR',\n",
       "  'NZ',\n",
       "  'OM',\n",
       "  'PA',\n",
       "  'PE',\n",
       "  'PG',\n",
       "  'PH',\n",
       "  'PK',\n",
       "  'PL',\n",
       "  'PS',\n",
       "  'PT',\n",
       "  'PW',\n",
       "  'PY',\n",
       "  'QA',\n",
       "  'RO',\n",
       "  'RS',\n",
       "  'RW',\n",
       "  'SA',\n",
       "  'SB',\n",
       "  'SC',\n",
       "  'SE',\n",
       "  'SG',\n",
       "  'SI',\n",
       "  'SK',\n",
       "  'SL',\n",
       "  'SM',\n",
       "  'SN',\n",
       "  'SR',\n",
       "  'ST',\n",
       "  'SV',\n",
       "  'SZ',\n",
       "  'TD',\n",
       "  'TG',\n",
       "  'TH',\n",
       "  'TJ',\n",
       "  'TL',\n",
       "  'TN',\n",
       "  'TO',\n",
       "  'TR',\n",
       "  'TT',\n",
       "  'TV',\n",
       "  'TW',\n",
       "  'TZ',\n",
       "  'UA',\n",
       "  'UG',\n",
       "  'US',\n",
       "  'UY',\n",
       "  'UZ',\n",
       "  'VC',\n",
       "  'VE',\n",
       "  'VN',\n",
       "  'VU',\n",
       "  'WS',\n",
       "  'XK',\n",
       "  'ZA',\n",
       "  'ZM',\n",
       "  'ZW'],\n",
       " 'external_urls': {'spotify': 'https://open.spotify.com/album/2j5jqlI0NvqlXAy9C740pZ'},\n",
       " 'href': 'https://api.spotify.com/v1/albums/2j5jqlI0NvqlXAy9C740pZ',\n",
       " 'id': '2j5jqlI0NvqlXAy9C740pZ',\n",
       " 'images': [{'height': 640,\n",
       "   'url': 'https://i.scdn.co/image/ab67616d0000b273f71abcb4d9ba0fbbc62fe867',\n",
       "   'width': 640},\n",
       "  {'height': 300,\n",
       "   'url': 'https://i.scdn.co/image/ab67616d00001e02f71abcb4d9ba0fbbc62fe867',\n",
       "   'width': 300},\n",
       "  {'height': 64,\n",
       "   'url': 'https://i.scdn.co/image/ab67616d00004851f71abcb4d9ba0fbbc62fe867',\n",
       "   'width': 64}],\n",
       " 'name': 'The Singles - Volume 01',\n",
       " 'release_date': '2023-02-24',\n",
       " 'release_date_precision': 'day',\n",
       " 'total_tracks': 21,\n",
       " 'type': 'album',\n",
       " 'uri': 'spotify:album:2j5jqlI0NvqlXAy9C740pZ'}"
      ]
     },
     "execution_count": 100,
     "metadata": {},
     "output_type": "execute_result"
    }
   ],
   "source": [
    "# gets artist albums\n",
    "results = spotify.artist_albums(the_strokes_uri, album_type='album')\n",
    "albums = results['items']\n",
    "while results['next']:\n",
    "    results = spotify.next(results)\n",
    "    albums.extend(results['items'])\n",
    "\n",
    "albums[0]"
   ]
  },
  {
   "cell_type": "code",
   "execution_count": null,
   "id": "d7a0045f",
   "metadata": {},
   "outputs": [],
   "source": [
    "results = spotify.artist_top_tracks(the_strokes_uri)"
   ]
  },
  {
   "cell_type": "code",
   "execution_count": 80,
   "id": "06b95e54",
   "metadata": {},
   "outputs": [
    {
     "data": {
      "text/plain": [
       "dict_keys(['album', 'artists', 'disc_number', 'duration_ms', 'explicit', 'external_ids', 'external_urls', 'href', 'id', 'is_local', 'is_playable', 'name', 'popularity', 'preview_url', 'track_number', 'type', 'uri'])"
      ]
     },
     "execution_count": 80,
     "metadata": {},
     "output_type": "execute_result"
    }
   ],
   "source": [
    "results['tracks'][0].keys()"
   ]
  },
  {
   "cell_type": "code",
   "execution_count": 81,
   "id": "2a37714c",
   "metadata": {
    "scrolled": false
   },
   "outputs": [
    {
     "data": {
      "text/plain": [
       "{'album': {'album_type': 'album',\n",
       "  'artists': [{'external_urls': {'spotify': 'https://open.spotify.com/artist/0epOFNiUfyON9EYx7Tpr6V'},\n",
       "    'href': 'https://api.spotify.com/v1/artists/0epOFNiUfyON9EYx7Tpr6V',\n",
       "    'id': '0epOFNiUfyON9EYx7Tpr6V',\n",
       "    'name': 'The Strokes',\n",
       "    'type': 'artist',\n",
       "    'uri': 'spotify:artist:0epOFNiUfyON9EYx7Tpr6V'}],\n",
       "  'external_urls': {'spotify': 'https://open.spotify.com/album/2xkZV2Hl1Omi8rk2D7t5lN'},\n",
       "  'href': 'https://api.spotify.com/v1/albums/2xkZV2Hl1Omi8rk2D7t5lN',\n",
       "  'id': '2xkZV2Hl1Omi8rk2D7t5lN',\n",
       "  'images': [{'height': 640,\n",
       "    'url': 'https://i.scdn.co/image/ab67616d0000b273bfa99afb5ef0d26d5064b23b',\n",
       "    'width': 640},\n",
       "   {'height': 300,\n",
       "    'url': 'https://i.scdn.co/image/ab67616d00001e02bfa99afb5ef0d26d5064b23b',\n",
       "    'width': 300},\n",
       "   {'height': 64,\n",
       "    'url': 'https://i.scdn.co/image/ab67616d00004851bfa99afb5ef0d26d5064b23b',\n",
       "    'width': 64}],\n",
       "  'is_playable': True,\n",
       "  'name': 'The New Abnormal',\n",
       "  'release_date': '2020-04-10',\n",
       "  'release_date_precision': 'day',\n",
       "  'total_tracks': 9,\n",
       "  'type': 'album',\n",
       "  'uri': 'spotify:album:2xkZV2Hl1Omi8rk2D7t5lN'},\n",
       " 'artists': [{'external_urls': {'spotify': 'https://open.spotify.com/artist/0epOFNiUfyON9EYx7Tpr6V'},\n",
       "   'href': 'https://api.spotify.com/v1/artists/0epOFNiUfyON9EYx7Tpr6V',\n",
       "   'id': '0epOFNiUfyON9EYx7Tpr6V',\n",
       "   'name': 'The Strokes',\n",
       "   'type': 'artist',\n",
       "   'uri': 'spotify:artist:0epOFNiUfyON9EYx7Tpr6V'}],\n",
       " 'disc_number': 1,\n",
       " 'duration_ms': 309053,\n",
       " 'explicit': False,\n",
       " 'external_ids': {'isrc': 'USRC11902726'},\n",
       " 'external_urls': {'spotify': 'https://open.spotify.com/track/5ruzrDWcT0vuJIOMW7gMnW'},\n",
       " 'href': 'https://api.spotify.com/v1/tracks/5ruzrDWcT0vuJIOMW7gMnW',\n",
       " 'id': '5ruzrDWcT0vuJIOMW7gMnW',\n",
       " 'is_local': False,\n",
       " 'is_playable': True,\n",
       " 'name': 'The Adults Are Talking',\n",
       " 'popularity': 81,\n",
       " 'preview_url': 'https://p.scdn.co/mp3-preview/213afafcea2fa6b5c7e5fd71c1fd8f4adc3ffba0?cid=d4a6c5e1b1374d4a8356a82f68c9e64e',\n",
       " 'track_number': 1,\n",
       " 'type': 'track',\n",
       " 'uri': 'spotify:track:5ruzrDWcT0vuJIOMW7gMnW'}"
      ]
     },
     "execution_count": 81,
     "metadata": {},
     "output_type": "execute_result"
    }
   ],
   "source": [
    "results['tracks'][0]"
   ]
  },
  {
   "cell_type": "code",
   "execution_count": 85,
   "id": "3cefd4b7",
   "metadata": {},
   "outputs": [],
   "source": [
    "taat_audio_analysis = spotify.audio_analysis('5ruzrDWcT0vuJIOMW7gMnW')\n",
    "taat_audio_features = spotify.audio_features('5ruzrDWcT0vuJIOMW7gMnW')"
   ]
  },
  {
   "cell_type": "code",
   "execution_count": 89,
   "id": "8254bd79",
   "metadata": {
    "scrolled": true
   },
   "outputs": [
    {
     "data": {
      "text/plain": [
       "dict_keys(['meta', 'track', 'bars', 'beats', 'sections', 'segments', 'tatums'])"
      ]
     },
     "execution_count": 89,
     "metadata": {},
     "output_type": "execute_result"
    }
   ],
   "source": [
    "taat_audio.keys()"
   ]
  },
  {
   "cell_type": "code",
   "execution_count": 90,
   "id": "13f09cfd",
   "metadata": {},
   "outputs": [
    {
     "data": {
      "text/plain": [
       "[{'danceability': 0.593,\n",
       "  'energy': 0.749,\n",
       "  'key': 5,\n",
       "  'loudness': -5.67,\n",
       "  'mode': 1,\n",
       "  'speechiness': 0.0475,\n",
       "  'acousticness': 0.0113,\n",
       "  'instrumentalness': 0.106,\n",
       "  'liveness': 0.314,\n",
       "  'valence': 0.649,\n",
       "  'tempo': 164.959,\n",
       "  'type': 'audio_features',\n",
       "  'id': '5ruzrDWcT0vuJIOMW7gMnW',\n",
       "  'uri': 'spotify:track:5ruzrDWcT0vuJIOMW7gMnW',\n",
       "  'track_href': 'https://api.spotify.com/v1/tracks/5ruzrDWcT0vuJIOMW7gMnW',\n",
       "  'analysis_url': 'https://api.spotify.com/v1/audio-analysis/5ruzrDWcT0vuJIOMW7gMnW',\n",
       "  'duration_ms': 309053,\n",
       "  'time_signature': 4}]"
      ]
     },
     "execution_count": 90,
     "metadata": {},
     "output_type": "execute_result"
    }
   ],
   "source": [
    "taat_audio_features"
   ]
  }
 ],
 "metadata": {
  "kernelspec": {
   "display_name": "Python 3 (ipykernel)",
   "language": "python",
   "name": "python3"
  },
  "language_info": {
   "codemirror_mode": {
    "name": "ipython",
    "version": 3
   },
   "file_extension": ".py",
   "mimetype": "text/x-python",
   "name": "python",
   "nbconvert_exporter": "python",
   "pygments_lexer": "ipython3",
   "version": "3.10.9"
  }
 },
 "nbformat": 4,
 "nbformat_minor": 5
}
