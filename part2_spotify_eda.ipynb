{
 "cells": [
  {
   "cell_type": "code",
   "execution_count": 12,
   "id": "13219ff5-4bf5-4503-9c98-1c92f695cce3",
   "metadata": {},
   "outputs": [],
   "source": [
    "import pandas as pd\n",
    "import numpy as np\n",
    "import plotly.io as pio\n",
    "import plotly.express as px\n",
    "import plotly.graph_objects as go\n",
    "import seaborn as sns"
   ]
  },
  {
   "cell_type": "markdown",
   "id": "b2459c5c-f619-4d97-a4b4-f49da505f1a3",
   "metadata": {},
   "source": [
    "Documentation for Spotify audio features data: https://developer.spotify.com/documentation/web-api/reference/get-audio-features"
   ]
  },
  {
   "cell_type": "code",
   "execution_count": 13,
   "id": "8d03871d-9a1d-43b4-b3ba-8cab70349943",
   "metadata": {},
   "outputs": [],
   "source": [
    "df = pd.read_json('src/all_tracks.json')"
   ]
  },
  {
   "cell_type": "code",
   "execution_count": 14,
   "id": "e205fef2-3c5e-46bb-a212-0a1193963220",
   "metadata": {},
   "outputs": [
    {
     "data": {
      "text/html": [
       "<div>\n",
       "<style scoped>\n",
       "    .dataframe tbody tr th:only-of-type {\n",
       "        vertical-align: middle;\n",
       "    }\n",
       "\n",
       "    .dataframe tbody tr th {\n",
       "        vertical-align: top;\n",
       "    }\n",
       "\n",
       "    .dataframe thead th {\n",
       "        text-align: right;\n",
       "    }\n",
       "</style>\n",
       "<table border=\"1\" class=\"dataframe\">\n",
       "  <thead>\n",
       "    <tr style=\"text-align: right;\">\n",
       "      <th></th>\n",
       "      <th>Album</th>\n",
       "      <th>danceability</th>\n",
       "      <th>energy</th>\n",
       "      <th>key</th>\n",
       "      <th>loudness</th>\n",
       "      <th>mode</th>\n",
       "      <th>speechiness</th>\n",
       "      <th>acousticness</th>\n",
       "      <th>instrumentalness</th>\n",
       "      <th>liveness</th>\n",
       "      <th>valence</th>\n",
       "      <th>tempo</th>\n",
       "      <th>time_signature</th>\n",
       "      <th>duration</th>\n",
       "    </tr>\n",
       "  </thead>\n",
       "  <tbody>\n",
       "    <tr>\n",
       "      <th>The Modern Age - Rough Trade Version</th>\n",
       "      <td>The Singles - Volume 01</td>\n",
       "      <td>0.493</td>\n",
       "      <td>0.787</td>\n",
       "      <td>2</td>\n",
       "      <td>-7.712</td>\n",
       "      <td>1</td>\n",
       "      <td>0.0334</td>\n",
       "      <td>0.022400</td>\n",
       "      <td>0.002270</td>\n",
       "      <td>0.2530</td>\n",
       "      <td>0.880</td>\n",
       "      <td>160.120</td>\n",
       "      <td>4</td>\n",
       "      <td>192.85365</td>\n",
       "    </tr>\n",
       "    <tr>\n",
       "      <th>Last Nite - Rough Trade Version - The Modern Age B-Side</th>\n",
       "      <td>The Singles - Volume 01</td>\n",
       "      <td>0.399</td>\n",
       "      <td>0.745</td>\n",
       "      <td>0</td>\n",
       "      <td>-7.497</td>\n",
       "      <td>1</td>\n",
       "      <td>0.0329</td>\n",
       "      <td>0.043800</td>\n",
       "      <td>0.000000</td>\n",
       "      <td>0.1120</td>\n",
       "      <td>0.514</td>\n",
       "      <td>207.923</td>\n",
       "      <td>4</td>\n",
       "      <td>198.54926</td>\n",
       "    </tr>\n",
       "    <tr>\n",
       "      <th>Hard To Explain</th>\n",
       "      <td>Is This It</td>\n",
       "      <td>0.408</td>\n",
       "      <td>0.666</td>\n",
       "      <td>7</td>\n",
       "      <td>-6.286</td>\n",
       "      <td>1</td>\n",
       "      <td>0.0578</td>\n",
       "      <td>0.000455</td>\n",
       "      <td>0.862000</td>\n",
       "      <td>0.0889</td>\n",
       "      <td>0.666</td>\n",
       "      <td>82.523</td>\n",
       "      <td>4</td>\n",
       "      <td>224.33333</td>\n",
       "    </tr>\n",
       "    <tr>\n",
       "      <th>New York City Cops (Hard to Explain B-Side)</th>\n",
       "      <td>The Singles - Volume 01</td>\n",
       "      <td>0.520</td>\n",
       "      <td>0.842</td>\n",
       "      <td>0</td>\n",
       "      <td>-7.664</td>\n",
       "      <td>1</td>\n",
       "      <td>0.0352</td>\n",
       "      <td>0.063300</td>\n",
       "      <td>0.000045</td>\n",
       "      <td>0.3840</td>\n",
       "      <td>0.512</td>\n",
       "      <td>107.958</td>\n",
       "      <td>4</td>\n",
       "      <td>209.50508</td>\n",
       "    </tr>\n",
       "    <tr>\n",
       "      <th>Last Nite</th>\n",
       "      <td>Is This It</td>\n",
       "      <td>0.624</td>\n",
       "      <td>0.899</td>\n",
       "      <td>0</td>\n",
       "      <td>-5.709</td>\n",
       "      <td>1</td>\n",
       "      <td>0.0296</td>\n",
       "      <td>0.022100</td>\n",
       "      <td>0.000137</td>\n",
       "      <td>0.0975</td>\n",
       "      <td>0.790</td>\n",
       "      <td>104.061</td>\n",
       "      <td>4</td>\n",
       "      <td>193.37334</td>\n",
       "    </tr>\n",
       "    <tr>\n",
       "      <th>...</th>\n",
       "      <td>...</td>\n",
       "      <td>...</td>\n",
       "      <td>...</td>\n",
       "      <td>...</td>\n",
       "      <td>...</td>\n",
       "      <td>...</td>\n",
       "      <td>...</td>\n",
       "      <td>...</td>\n",
       "      <td>...</td>\n",
       "      <td>...</td>\n",
       "      <td>...</td>\n",
       "      <td>...</td>\n",
       "      <td>...</td>\n",
       "      <td>...</td>\n",
       "    </tr>\n",
       "    <tr>\n",
       "      <th>Call It Fate, Call It Karma</th>\n",
       "      <td>Comedown Machine</td>\n",
       "      <td>0.544</td>\n",
       "      <td>0.241</td>\n",
       "      <td>4</td>\n",
       "      <td>-14.779</td>\n",
       "      <td>0</td>\n",
       "      <td>0.0300</td>\n",
       "      <td>0.983000</td>\n",
       "      <td>0.774000</td>\n",
       "      <td>0.1010</td>\n",
       "      <td>0.359</td>\n",
       "      <td>109.437</td>\n",
       "      <td>4</td>\n",
       "      <td>204.77333</td>\n",
       "    </tr>\n",
       "    <tr>\n",
       "      <th>Drag Queen</th>\n",
       "      <td>Future Present Past</td>\n",
       "      <td>0.554</td>\n",
       "      <td>0.546</td>\n",
       "      <td>2</td>\n",
       "      <td>-4.681</td>\n",
       "      <td>0</td>\n",
       "      <td>0.0444</td>\n",
       "      <td>0.080300</td>\n",
       "      <td>0.328000</td>\n",
       "      <td>0.1020</td>\n",
       "      <td>0.507</td>\n",
       "      <td>124.115</td>\n",
       "      <td>4</td>\n",
       "      <td>273.48322</td>\n",
       "    </tr>\n",
       "    <tr>\n",
       "      <th>OBLIVIUS</th>\n",
       "      <td>Future Present Past</td>\n",
       "      <td>0.457</td>\n",
       "      <td>0.898</td>\n",
       "      <td>8</td>\n",
       "      <td>-4.350</td>\n",
       "      <td>1</td>\n",
       "      <td>0.0503</td>\n",
       "      <td>0.088500</td>\n",
       "      <td>0.690000</td>\n",
       "      <td>0.2100</td>\n",
       "      <td>0.434</td>\n",
       "      <td>102.979</td>\n",
       "      <td>4</td>\n",
       "      <td>299.15778</td>\n",
       "    </tr>\n",
       "    <tr>\n",
       "      <th>Threat of Joy</th>\n",
       "      <td>Future Present Past</td>\n",
       "      <td>0.594</td>\n",
       "      <td>0.728</td>\n",
       "      <td>0</td>\n",
       "      <td>-6.917</td>\n",
       "      <td>1</td>\n",
       "      <td>0.0281</td>\n",
       "      <td>0.216000</td>\n",
       "      <td>0.088100</td>\n",
       "      <td>0.1240</td>\n",
       "      <td>0.687</td>\n",
       "      <td>137.970</td>\n",
       "      <td>4</td>\n",
       "      <td>264.66200</td>\n",
       "    </tr>\n",
       "    <tr>\n",
       "      <th>OBLIVIUS - Moretti Remix</th>\n",
       "      <td>Future Present Past</td>\n",
       "      <td>0.335</td>\n",
       "      <td>0.830</td>\n",
       "      <td>5</td>\n",
       "      <td>-7.776</td>\n",
       "      <td>0</td>\n",
       "      <td>0.0592</td>\n",
       "      <td>0.000314</td>\n",
       "      <td>0.860000</td>\n",
       "      <td>0.2610</td>\n",
       "      <td>0.193</td>\n",
       "      <td>196.025</td>\n",
       "      <td>4</td>\n",
       "      <td>331.95963</td>\n",
       "    </tr>\n",
       "  </tbody>\n",
       "</table>\n",
       "<p>82 rows × 14 columns</p>\n",
       "</div>"
      ],
      "text/plain": [
       "                                                                      Album  \\\n",
       "The Modern Age - Rough Trade Version                The Singles - Volume 01   \n",
       "Last Nite - Rough Trade Version - The Modern Ag...  The Singles - Volume 01   \n",
       "Hard To Explain                                                  Is This It   \n",
       "New York City Cops (Hard to Explain B-Side)         The Singles - Volume 01   \n",
       "Last Nite                                                        Is This It   \n",
       "...                                                                     ...   \n",
       "Call It Fate, Call It Karma                                Comedown Machine   \n",
       "Drag Queen                                              Future Present Past   \n",
       "OBLIVIUS                                                Future Present Past   \n",
       "Threat of Joy                                           Future Present Past   \n",
       "OBLIVIUS - Moretti Remix                                Future Present Past   \n",
       "\n",
       "                                                    danceability  energy  key  \\\n",
       "The Modern Age - Rough Trade Version                       0.493   0.787    2   \n",
       "Last Nite - Rough Trade Version - The Modern Ag...         0.399   0.745    0   \n",
       "Hard To Explain                                            0.408   0.666    7   \n",
       "New York City Cops (Hard to Explain B-Side)                0.520   0.842    0   \n",
       "Last Nite                                                  0.624   0.899    0   \n",
       "...                                                          ...     ...  ...   \n",
       "Call It Fate, Call It Karma                                0.544   0.241    4   \n",
       "Drag Queen                                                 0.554   0.546    2   \n",
       "OBLIVIUS                                                   0.457   0.898    8   \n",
       "Threat of Joy                                              0.594   0.728    0   \n",
       "OBLIVIUS - Moretti Remix                                   0.335   0.830    5   \n",
       "\n",
       "                                                    loudness  mode  \\\n",
       "The Modern Age - Rough Trade Version                  -7.712     1   \n",
       "Last Nite - Rough Trade Version - The Modern Ag...    -7.497     1   \n",
       "Hard To Explain                                       -6.286     1   \n",
       "New York City Cops (Hard to Explain B-Side)           -7.664     1   \n",
       "Last Nite                                             -5.709     1   \n",
       "...                                                      ...   ...   \n",
       "Call It Fate, Call It Karma                          -14.779     0   \n",
       "Drag Queen                                            -4.681     0   \n",
       "OBLIVIUS                                              -4.350     1   \n",
       "Threat of Joy                                         -6.917     1   \n",
       "OBLIVIUS - Moretti Remix                              -7.776     0   \n",
       "\n",
       "                                                    speechiness  acousticness  \\\n",
       "The Modern Age - Rough Trade Version                     0.0334      0.022400   \n",
       "Last Nite - Rough Trade Version - The Modern Ag...       0.0329      0.043800   \n",
       "Hard To Explain                                          0.0578      0.000455   \n",
       "New York City Cops (Hard to Explain B-Side)              0.0352      0.063300   \n",
       "Last Nite                                                0.0296      0.022100   \n",
       "...                                                         ...           ...   \n",
       "Call It Fate, Call It Karma                              0.0300      0.983000   \n",
       "Drag Queen                                               0.0444      0.080300   \n",
       "OBLIVIUS                                                 0.0503      0.088500   \n",
       "Threat of Joy                                            0.0281      0.216000   \n",
       "OBLIVIUS - Moretti Remix                                 0.0592      0.000314   \n",
       "\n",
       "                                                    instrumentalness  \\\n",
       "The Modern Age - Rough Trade Version                        0.002270   \n",
       "Last Nite - Rough Trade Version - The Modern Ag...          0.000000   \n",
       "Hard To Explain                                             0.862000   \n",
       "New York City Cops (Hard to Explain B-Side)                 0.000045   \n",
       "Last Nite                                                   0.000137   \n",
       "...                                                              ...   \n",
       "Call It Fate, Call It Karma                                 0.774000   \n",
       "Drag Queen                                                  0.328000   \n",
       "OBLIVIUS                                                    0.690000   \n",
       "Threat of Joy                                               0.088100   \n",
       "OBLIVIUS - Moretti Remix                                    0.860000   \n",
       "\n",
       "                                                    liveness  valence  \\\n",
       "The Modern Age - Rough Trade Version                  0.2530    0.880   \n",
       "Last Nite - Rough Trade Version - The Modern Ag...    0.1120    0.514   \n",
       "Hard To Explain                                       0.0889    0.666   \n",
       "New York City Cops (Hard to Explain B-Side)           0.3840    0.512   \n",
       "Last Nite                                             0.0975    0.790   \n",
       "...                                                      ...      ...   \n",
       "Call It Fate, Call It Karma                           0.1010    0.359   \n",
       "Drag Queen                                            0.1020    0.507   \n",
       "OBLIVIUS                                              0.2100    0.434   \n",
       "Threat of Joy                                         0.1240    0.687   \n",
       "OBLIVIUS - Moretti Remix                              0.2610    0.193   \n",
       "\n",
       "                                                      tempo  time_signature  \\\n",
       "The Modern Age - Rough Trade Version                160.120               4   \n",
       "Last Nite - Rough Trade Version - The Modern Ag...  207.923               4   \n",
       "Hard To Explain                                      82.523               4   \n",
       "New York City Cops (Hard to Explain B-Side)         107.958               4   \n",
       "Last Nite                                           104.061               4   \n",
       "...                                                     ...             ...   \n",
       "Call It Fate, Call It Karma                         109.437               4   \n",
       "Drag Queen                                          124.115               4   \n",
       "OBLIVIUS                                            102.979               4   \n",
       "Threat of Joy                                       137.970               4   \n",
       "OBLIVIUS - Moretti Remix                            196.025               4   \n",
       "\n",
       "                                                     duration  \n",
       "The Modern Age - Rough Trade Version                192.85365  \n",
       "Last Nite - Rough Trade Version - The Modern Ag...  198.54926  \n",
       "Hard To Explain                                     224.33333  \n",
       "New York City Cops (Hard to Explain B-Side)         209.50508  \n",
       "Last Nite                                           193.37334  \n",
       "...                                                       ...  \n",
       "Call It Fate, Call It Karma                         204.77333  \n",
       "Drag Queen                                          273.48322  \n",
       "OBLIVIUS                                            299.15778  \n",
       "Threat of Joy                                       264.66200  \n",
       "OBLIVIUS - Moretti Remix                            331.95963  \n",
       "\n",
       "[82 rows x 14 columns]"
      ]
     },
     "execution_count": 14,
     "metadata": {},
     "output_type": "execute_result"
    }
   ],
   "source": [
    "df"
   ]
  },
  {
   "cell_type": "code",
   "execution_count": 15,
   "id": "fc07f48b-33bf-4998-8110-124c432247c7",
   "metadata": {},
   "outputs": [],
   "source": [
    "corrplot_df = df.drop(columns=['key','duration'])\n",
    "corr = corrplot_df.corr(numeric_only = True)"
   ]
  },
  {
   "cell_type": "code",
   "execution_count": 16,
   "id": "42dd7c49-3327-42c8-bff7-ec403cfc49c7",
   "metadata": {},
   "outputs": [
    {
     "data": {
      "text/plain": [
       "<Axes: >"
      ]
     },
     "execution_count": 16,
     "metadata": {},
     "output_type": "execute_result"
    },
    {
     "data": {
      "image/png": "[encoded data removed]",
      "text/plain": [
       "<Figure size 640x480 with 2 Axes>"
      ]
     },
     "metadata": {},
     "output_type": "display_data"
    }
   ],
   "source": [
    "# seaborn heatmap\n",
    "sns.heatmap(corr,\n",
    "            annot = True,\n",
    "            linewidth=.5,\n",
    "            fmt=\".2f\")"
   ]
  },
  {
   "cell_type": "code",
   "execution_count": 17,
   "id": "74a8a999-b643-4650-8205-23d7d60161f5",
   "metadata": {
    "tags": []
   },
   "outputs": [
    {
     "data": {
      "application/vnd.plotly.v1+json": {
       "config": {
        "plotlyServerURL": "https://plot.ly"
       },
       "data": [
        {
         "text": [
          [
           1,
           -0.120641035677592,
           -0.2018423768588354,
           0.054388703582023974,
           -0.13006132091045008,
           0.03645968962139236,
           -0.30739295468732364,
           -0.04443593870836417,
           0.2773755823336019,
           -0.37438331910266,
           0.05581289099551194
          ],
          [
           -0.120641035677592,
           1,
           0.621764457497689,
           -0.018926885543679373,
           0.2666837196651189,
           -0.7012751076008336,
           0.13116064768799274,
           0.046263152065354786,
           0.12475054982573001,
           0.04871745933140461,
           -0.07282697400081348
          ],
          [
           -0.2018423768588354,
           0.621764457497689,
           1,
           0.1065066018887502,
           0.23888334360096322,
           -0.5569803717117661,
           0.10106049861255886,
           -0.03774292190319779,
           0.07131077863779359,
           -0.04825305107763869,
           -0.07563388422750245
          ],
          [
           0.054388703582023974,
           -0.018926885543679373,
           0.1065066018887502,
           1,
           -0.038701666615295366,
           0.05039819500136892,
           0.11319046789432322,
           0.06200777467348056,
           0.21286024455404287,
           -0.009621170698915818,
           0.08022091167949146
          ],
          [
           -0.13006132091045008,
           0.2666837196651189,
           0.23888334360096322,
           -0.038701666615295366,
           1,
           -0.09785372002853383,
           0.049729999216712076,
           0.004282039965913769,
           -0.13739322372118573,
           0.17770278599851244,
           0.010910760897192517
          ],
          [
           0.03645968962139236,
           -0.7012751076008336,
           -0.5569803717117661,
           0.05039819500136892,
           -0.09785372002853383,
           1,
           -0.082986776131266,
           -0.023686233821773,
           -0.21963385707874591,
           -0.09282343747162929,
           0.0548341410888289
          ],
          [
           -0.30739295468732364,
           0.13116064768799274,
           0.10106049861255886,
           0.11319046789432322,
           0.049729999216712076,
           -0.082986776131266,
           1,
           0.0046964130180258195,
           -0.03179649205038949,
           -0.03346620609543324,
           0.04186334541826301
          ],
          [
           -0.04443593870836417,
           0.046263152065354786,
           -0.03774292190319779,
           0.06200777467348056,
           0.004282039965913769,
           -0.023686233821773,
           0.0046964130180258195,
           1,
           -0.07360806634891151,
           0.08235493475702534,
           -0.02882870542736056
          ],
          [
           0.2773755823336019,
           0.12475054982573001,
           0.07131077863779359,
           0.21286024455404287,
           -0.13739322372118573,
           -0.21963385707874591,
           -0.03179649205038949,
           -0.07360806634891151,
           1,
           -0.07040754319524367,
           -0.005899522014356625
          ],
          [
           -0.37438331910266,
           0.04871745933140461,
           -0.04825305107763869,
           -0.009621170698915818,
           0.17770278599851244,
           -0.09282343747162929,
           -0.03346620609543324,
           0.08235493475702534,
           -0.07040754319524367,
           1,
           0.1001660067354874
          ],
          [
           0.05581289099551194,
           -0.07282697400081348,
           -0.07563388422750245,
           0.08022091167949146,
           0.010910760897192517,
           0.0548341410888289,
           0.04186334541826301,
           -0.02882870542736056,
           -0.005899522014356625,
           0.1001660067354874,
           1
          ]
         ],
         "texttemplate": "%{text:.2f}",
         "type": "heatmap",
         "x": [
          "danceability",
          "energy",
          "loudness",
          "mode",
          "speechiness",
          "acousticness",
          "instrumentalness",
          "liveness",
          "valence",
          "tempo",
          "time_signature"
         ],
         "y": [
          "danceability",
          "energy",
          "loudness",
          "mode",
          "speechiness",
          "acousticness",
          "instrumentalness",
          "liveness",
          "valence",
          "tempo",
          "time_signature"
         ],
         "z": [
          [
           1,
           -0.120641035677592,
           -0.2018423768588354,
           0.054388703582023974,
           -0.13006132091045008,
           0.03645968962139236,
           -0.30739295468732364,
           -0.04443593870836417,
           0.2773755823336019,
           -0.37438331910266,
           0.05581289099551194
          ],
          [
           -0.120641035677592,
           1,
           0.621764457497689,
           -0.018926885543679373,
           0.2666837196651189,
           -0.7012751076008336,
           0.13116064768799274,
           0.046263152065354786,
           0.12475054982573001,
           0.04871745933140461,
           -0.07282697400081348
          ],
          [
           -0.2018423768588354,
           0.621764457497689,
           1,
           0.1065066018887502,
           0.23888334360096322,
           -0.5569803717117661,
           0.10106049861255886,
           -0.03774292190319779,
           0.07131077863779359,
           -0.04825305107763869,
           -0.07563388422750245
          ],
          [
           0.054388703582023974,
           -0.018926885543679373,
           0.1065066018887502,
           1,
           -0.038701666615295366,
           0.05039819500136892,
           0.11319046789432322,
           0.06200777467348056,
           0.21286024455404287,
           -0.009621170698915818,
           0.08022091167949146
          ],
          [
           -0.13006132091045008,
           0.2666837196651189,
           0.23888334360096322,
           -0.038701666615295366,
           1,
           -0.09785372002853383,
           0.049729999216712076,
           0.004282039965913769,
           -0.13739322372118573,
           0.17770278599851244,
           0.010910760897192517
          ],
          [
           0.03645968962139236,
           -0.7012751076008336,
           -0.5569803717117661,
           0.05039819500136892,
           -0.09785372002853383,
           1,
           -0.082986776131266,
           -0.023686233821773,
           -0.21963385707874591,
           -0.09282343747162929,
           0.0548341410888289
          ],
          [
           -0.30739295468732364,
           0.13116064768799274,
           0.10106049861255886,
           0.11319046789432322,
           0.049729999216712076,
           -0.082986776131266,
           1,
           0.0046964130180258195,
           -0.03179649205038949,
           -0.03346620609543324,
           0.04186334541826301
          ],
          [
           -0.04443593870836417,
           0.046263152065354786,
           -0.03774292190319779,
           0.06200777467348056,
           0.004282039965913769,
           -0.023686233821773,
           0.0046964130180258195,
           1,
           -0.07360806634891151,
           0.08235493475702534,
           -0.02882870542736056
          ],
          [
           0.2773755823336019,
           0.12475054982573001,
           0.07131077863779359,
           0.21286024455404287,
           -0.13739322372118573,
           -0.21963385707874591,
           -0.03179649205038949,
           -0.07360806634891151,
           1,
           -0.07040754319524367,
           -0.005899522014356625
          ],
          [
           -0.37438331910266,
           0.04871745933140461,
           -0.04825305107763869,
           -0.009621170698915818,
           0.17770278599851244,
           -0.09282343747162929,
           -0.03346620609543324,
           0.08235493475702534,
           -0.07040754319524367,
           1,
           0.1001660067354874
          ],
          [
           0.05581289099551194,
           -0.07282697400081348,
           -0.07563388422750245,
           0.08022091167949146,
           0.010910760897192517,
           0.0548341410888289,
           0.04186334541826301,
           -0.02882870542736056,
           -0.005899522014356625,
           0.1001660067354874,
           1
          ]
         ]
        }
       ],
       "layout": {
        "autosize": true,
        "template": {
         "data": {
          "bar": [
           {
            "error_x": {
             "color": "#2a3f5f"
            },
            "error_y": {
             "color": "#2a3f5f"
            },
            "marker": {
             "line": {
              "color": "#E5ECF6",
              "width": 0.5
             },
             "pattern": {
              "fillmode": "overlay",
              "size": 10,
              "solidity": 0.2
             }
            },
            "type": "bar"
           }
          ],
          "barpolar": [
           {
            "marker": {
             "line": {
              "color": "#E5ECF6",
              "width": 0.5
             },
             "pattern": {
              "fillmode": "overlay",
              "size": 10,
              "solidity": 0.2
             }
            },
            "type": "barpolar"
           }
          ],
          "carpet": [
           {
            "aaxis": {
             "endlinecolor": "#2a3f5f",
             "gridcolor": "white",
             "linecolor": "white",
             "minorgridcolor": "white",
             "startlinecolor": "#2a3f5f"
            },
            "baxis": {
             "endlinecolor": "#2a3f5f",
             "gridcolor": "white",
             "linecolor": "white",
             "minorgridcolor": "white",
             "startlinecolor": "#2a3f5f"
            },
            "type": "carpet"
           }
          ],
          "choropleth": [
           {
            "colorbar": {
             "outlinewidth": 0,
             "ticks": ""
            },
            "type": "choropleth"
           }
          ],
          "contour": [
           {
            "colorbar": {
             "outlinewidth": 0,
             "ticks": ""
            },
            "colorscale": [
             [
              0,
              "#0d0887"
             ],
             [
              0.1111111111111111,
              "#46039f"
             ],
             [
              0.2222222222222222,
              "#7201a8"
             ],
             [
              0.3333333333333333,
              "#9c179e"
             ],
             [
              0.4444444444444444,
              "#bd3786"
             ],
             [
              0.5555555555555556,
              "#d8576b"
             ],
             [
              0.6666666666666666,
              "#ed7953"
             ],
             [
              0.7777777777777778,
              "#fb9f3a"
             ],
             [
              0.8888888888888888,
              "#fdca26"
             ],
             [
              1,
              "#f0f921"
             ]
            ],
            "type": "contour"
           }
          ],
          "contourcarpet": [
           {
            "colorbar": {
             "outlinewidth": 0,
             "ticks": ""
            },
            "type": "contourcarpet"
           }
          ],
          "heatmap": [
           {
            "colorbar": {
             "outlinewidth": 0,
             "ticks": ""
            },
            "colorscale": [
             [
              0,
              "#0d0887"
             ],
             [
              0.1111111111111111,
              "#46039f"
             ],
             [
              0.2222222222222222,
              "#7201a8"
             ],
             [
              0.3333333333333333,
              "#9c179e"
             ],
             [
              0.4444444444444444,
              "#bd3786"
             ],
             [
              0.5555555555555556,
              "#d8576b"
             ],
             [
              0.6666666666666666,
              "#ed7953"
             ],
             [
              0.7777777777777778,
              "#fb9f3a"
             ],
             [
              0.8888888888888888,
              "#fdca26"
             ],
             [
              1,
              "#f0f921"
             ]
            ],
            "type": "heatmap"
           }
          ],
          "heatmapgl": [
           {
            "colorbar": {
             "outlinewidth": 0,
             "ticks": ""
            },
            "colorscale": [
             [
              0,
              "#0d0887"
             ],
             [
              0.1111111111111111,
              "#46039f"
             ],
             [
              0.2222222222222222,
              "#7201a8"
             ],
             [
              0.3333333333333333,
              "#9c179e"
             ],
             [
              0.4444444444444444,
              "#bd3786"
             ],
             [
              0.5555555555555556,
              "#d8576b"
             ],
             [
              0.6666666666666666,
              "#ed7953"
             ],
             [
              0.7777777777777778,
              "#fb9f3a"
             ],
             [
              0.8888888888888888,
              "#fdca26"
             ],
             [
              1,
              "#f0f921"
             ]
            ],
            "type": "heatmapgl"
           }
          ],
          "histogram": [
           {
            "marker": {
             "pattern": {
              "fillmode": "overlay",
              "size": 10,
              "solidity": 0.2
             }
            },
            "type": "histogram"
           }
          ],
          "histogram2d": [
           {
            "colorbar": {
             "outlinewidth": 0,
             "ticks": ""
            },
            "colorscale": [
             [
              0,
              "#0d0887"
             ],
             [
              0.1111111111111111,
              "#46039f"
             ],
             [
              0.2222222222222222,
              "#7201a8"
             ],
             [
              0.3333333333333333,
              "#9c179e"
             ],
             [
              0.4444444444444444,
              "#bd3786"
             ],
             [
              0.5555555555555556,
              "#d8576b"
             ],
             [
              0.6666666666666666,
              "#ed7953"
             ],
             [
              0.7777777777777778,
              "#fb9f3a"
             ],
             [
              0.8888888888888888,
              "#fdca26"
             ],
             [
              1,
              "#f0f921"
             ]
            ],
            "type": "histogram2d"
           }
          ],
          "histogram2dcontour": [
           {
            "colorbar": {
             "outlinewidth": 0,
             "ticks": ""
            },
            "colorscale": [
             [
              0,
              "#0d0887"
             ],
             [
              0.1111111111111111,
              "#46039f"
             ],
             [
              0.2222222222222222,
              "#7201a8"
             ],
             [
              0.3333333333333333,
              "#9c179e"
             ],
             [
              0.4444444444444444,
              "#bd3786"
             ],
             [
              0.5555555555555556,
              "#d8576b"
             ],
             [
              0.6666666666666666,
              "#ed7953"
             ],
             [
              0.7777777777777778,
              "#fb9f3a"
             ],
             [
              0.8888888888888888,
              "#fdca26"
             ],
             [
              1,
              "#f0f921"
             ]
            ],
            "type": "histogram2dcontour"
           }
          ],
          "mesh3d": [
           {
            "colorbar": {
             "outlinewidth": 0,
             "ticks": ""
            },
            "type": "mesh3d"
           }
          ],
          "parcoords": [
           {
            "line": {
             "colorbar": {
              "outlinewidth": 0,
              "ticks": ""
             }
            },
            "type": "parcoords"
           }
          ],
          "pie": [
           {
            "automargin": true,
            "type": "pie"
           }
          ],
          "scatter": [
           {
            "fillpattern": {
             "fillmode": "overlay",
             "size": 10,
             "solidity": 0.2
            },
            "type": "scatter"
           }
          ],
          "scatter3d": [
           {
            "line": {
             "colorbar": {
              "outlinewidth": 0,
              "ticks": ""
             }
            },
            "marker": {
             "colorbar": {
              "outlinewidth": 0,
              "ticks": ""
             }
            },
            "type": "scatter3d"
           }
          ],
          "scattercarpet": [
           {
            "marker": {
             "colorbar": {
              "outlinewidth": 0,
              "ticks": ""
             }
            },
            "type": "scattercarpet"
           }
          ],
          "scattergeo": [
           {
            "marker": {
             "colorbar": {
              "outlinewidth": 0,
              "ticks": ""
             }
            },
            "type": "scattergeo"
           }
          ],
          "scattergl": [
           {
            "marker": {
             "colorbar": {
              "outlinewidth": 0,
              "ticks": ""
             }
            },
            "type": "scattergl"
           }
          ],
          "scattermapbox": [
           {
            "marker": {
             "colorbar": {
              "outlinewidth": 0,
              "ticks": ""
             }
            },
            "type": "scattermapbox"
           }
          ],
          "scatterpolar": [
           {
            "marker": {
             "colorbar": {
              "outlinewidth": 0,
              "ticks": ""
             }
            },
            "type": "scatterpolar"
           }
          ],
          "scatterpolargl": [
           {
            "marker": {
             "colorbar": {
              "outlinewidth": 0,
              "ticks": ""
             }
            },
            "type": "scatterpolargl"
           }
          ],
          "scatterternary": [
           {
            "marker": {
             "colorbar": {
              "outlinewidth": 0,
              "ticks": ""
             }
            },
            "type": "scatterternary"
           }
          ],
          "surface": [
           {
            "colorbar": {
             "outlinewidth": 0,
             "ticks": ""
            },
            "colorscale": [
             [
              0,
              "#0d0887"
             ],
             [
              0.1111111111111111,
              "#46039f"
             ],
             [
              0.2222222222222222,
              "#7201a8"
             ],
             [
              0.3333333333333333,
              "#9c179e"
             ],
             [
              0.4444444444444444,
              "#bd3786"
             ],
             [
              0.5555555555555556,
              "#d8576b"
             ],
             [
              0.6666666666666666,
              "#ed7953"
             ],
             [
              0.7777777777777778,
              "#fb9f3a"
             ],
             [
              0.8888888888888888,
              "#fdca26"
             ],
             [
              1,
              "#f0f921"
             ]
            ],
            "type": "surface"
           }
          ],
          "table": [
           {
            "cells": {
             "fill": {
              "color": "#EBF0F8"
             },
             "line": {
              "color": "white"
             }
            },
            "header": {
             "fill": {
              "color": "#C8D4E3"
             },
             "line": {
              "color": "white"
             }
            },
            "type": "table"
           }
          ]
         },
         "layout": {
          "annotationdefaults": {
           "arrowcolor": "#2a3f5f",
           "arrowhead": 0,
           "arrowwidth": 1
          },
          "autotypenumbers": "strict",
          "coloraxis": {
           "colorbar": {
            "outlinewidth": 0,
            "ticks": ""
           }
          },
          "colorscale": {
           "diverging": [
            [
             0,
             "#8e0152"
            ],
            [
             0.1,
             "#c51b7d"
            ],
            [
             0.2,
             "#de77ae"
            ],
            [
             0.3,
             "#f1b6da"
            ],
            [
             0.4,
             "#fde0ef"
            ],
            [
             0.5,
             "#f7f7f7"
            ],
            [
             0.6,
             "#e6f5d0"
            ],
            [
             0.7,
             "#b8e186"
            ],
            [
             0.8,
             "#7fbc41"
            ],
            [
             0.9,
             "#4d9221"
            ],
            [
             1,
             "#276419"
            ]
           ],
           "sequential": [
            [
             0,
             "#0d0887"
            ],
            [
             0.1111111111111111,
             "#46039f"
            ],
            [
             0.2222222222222222,
             "#7201a8"
            ],
            [
             0.3333333333333333,
             "#9c179e"
            ],
            [
             0.4444444444444444,
             "#bd3786"
            ],
            [
             0.5555555555555556,
             "#d8576b"
            ],
            [
             0.6666666666666666,
             "#ed7953"
            ],
            [
             0.7777777777777778,
             "#fb9f3a"
            ],
            [
             0.8888888888888888,
             "#fdca26"
            ],
            [
             1,
             "#f0f921"
            ]
           ],
           "sequentialminus": [
            [
             0,
             "#0d0887"
            ],
            [
             0.1111111111111111,
             "#46039f"
            ],
            [
             0.2222222222222222,
             "#7201a8"
            ],
            [
             0.3333333333333333,
             "#9c179e"
            ],
            [
             0.4444444444444444,
             "#bd3786"
            ],
            [
             0.5555555555555556,
             "#d8576b"
            ],
            [
             0.6666666666666666,
             "#ed7953"
            ],
            [
             0.7777777777777778,
             "#fb9f3a"
            ],
            [
             0.8888888888888888,
             "#fdca26"
            ],
            [
             1,
             "#f0f921"
            ]
           ]
          },
          "colorway": [
           "#636efa",
           "#EF553B",
           "#00cc96",
           "#ab63fa",
           "#FFA15A",
           "#19d3f3",
           "#FF6692",
           "#B6E880",
           "#FF97FF",
           "#FECB52"
          ],
          "font": {
           "color": "#2a3f5f"
          },
          "geo": {
           "bgcolor": "white",
           "lakecolor": "white",
           "landcolor": "#E5ECF6",
           "showlakes": true,
           "showland": true,
           "subunitcolor": "white"
          },
          "hoverlabel": {
           "align": "left"
          },
          "hovermode": "closest",
          "mapbox": {
           "style": "light"
          },
          "paper_bgcolor": "white",
          "plot_bgcolor": "#E5ECF6",
          "polar": {
           "angularaxis": {
            "gridcolor": "white",
            "linecolor": "white",
            "ticks": ""
           },
           "bgcolor": "#E5ECF6",
           "radialaxis": {
            "gridcolor": "white",
            "linecolor": "white",
            "ticks": ""
           }
          },
          "scene": {
           "xaxis": {
            "backgroundcolor": "#E5ECF6",
            "gridcolor": "white",
            "gridwidth": 2,
            "linecolor": "white",
            "showbackground": true,
            "ticks": "",
            "zerolinecolor": "white"
           },
           "yaxis": {
            "backgroundcolor": "#E5ECF6",
            "gridcolor": "white",
            "gridwidth": 2,
            "linecolor": "white",
            "showbackground": true,
            "ticks": "",
            "zerolinecolor": "white"
           },
           "zaxis": {
            "backgroundcolor": "#E5ECF6",
            "gridcolor": "white",
            "gridwidth": 2,
            "linecolor": "white",
            "showbackground": true,
            "ticks": "",
            "zerolinecolor": "white"
           }
          },
          "shapedefaults": {
           "line": {
            "color": "#2a3f5f"
           }
          },
          "ternary": {
           "aaxis": {
            "gridcolor": "white",
            "linecolor": "white",
            "ticks": ""
           },
           "baxis": {
            "gridcolor": "white",
            "linecolor": "white",
            "ticks": ""
           },
           "bgcolor": "#E5ECF6",
           "caxis": {
            "gridcolor": "white",
            "linecolor": "white",
            "ticks": ""
           }
          },
          "title": {
           "x": 0.05
          },
          "xaxis": {
           "automargin": true,
           "gridcolor": "white",
           "linecolor": "white",
           "ticks": "",
           "title": {
            "standoff": 15
           },
           "zerolinecolor": "white",
           "zerolinewidth": 2
          },
          "yaxis": {
           "automargin": true,
           "gridcolor": "white",
           "linecolor": "white",
           "ticks": "",
           "title": {
            "standoff": 15
           },
           "zerolinecolor": "white",
           "zerolinewidth": 2
          }
         }
        },
        "xaxis": {
         "autorange": true,
         "range": [
          -0.5,
          10.5
         ],
         "type": "category"
        },
        "yaxis": {
         "autorange": true,
         "range": [
          -0.5,
          10.5
         ],
         "type": "category"
        }
       }
      },
      "image/png": "[encoded data removed]",
      "text/html": [
       "<div>                            <div id=\"1707dc6d-da85-4435-9022-2bcc44f060ff\" class=\"plotly-graph-div\" style=\"height:525px; width:100%;\"></div>            <script type=\"text/javascript\">                require([\"plotly\"], function(Plotly) {                    window.PLOTLYENV=window.PLOTLYENV || {};                                    if (document.getElementById(\"1707dc6d-da85-4435-9022-2bcc44f060ff\")) {                    Plotly.newPlot(                        \"1707dc6d-da85-4435-9022-2bcc44f060ff\",                        [{\"text\":[[1.0,-0.120641035677592,-0.2018423768588354,0.054388703582023974,-0.13006132091045008,0.03645968962139236,-0.30739295468732364,-0.04443593870836417,0.2773755823336019,-0.37438331910266,0.05581289099551194],[-0.120641035677592,1.0,0.621764457497689,-0.018926885543679373,0.2666837196651189,-0.7012751076008336,0.13116064768799274,0.046263152065354786,0.12475054982573001,0.04871745933140461,-0.07282697400081348],[-0.2018423768588354,0.621764457497689,1.0,0.1065066018887502,0.23888334360096322,-0.5569803717117661,0.10106049861255886,-0.03774292190319779,0.07131077863779359,-0.04825305107763869,-0.07563388422750245],[0.054388703582023974,-0.018926885543679373,0.1065066018887502,1.0,-0.038701666615295366,0.05039819500136892,0.11319046789432322,0.06200777467348056,0.21286024455404287,-0.009621170698915818,0.08022091167949146],[-0.13006132091045008,0.2666837196651189,0.23888334360096322,-0.038701666615295366,1.0,-0.09785372002853383,0.049729999216712076,0.004282039965913769,-0.13739322372118573,0.17770278599851244,0.010910760897192517],[0.03645968962139236,-0.7012751076008336,-0.5569803717117661,0.05039819500136892,-0.09785372002853383,1.0,-0.082986776131266,-0.023686233821773,-0.21963385707874591,-0.09282343747162929,0.0548341410888289],[-0.30739295468732364,0.13116064768799274,0.10106049861255886,0.11319046789432322,0.049729999216712076,-0.082986776131266,1.0,0.0046964130180258195,-0.03179649205038949,-0.03346620609543324,0.04186334541826301],[-0.04443593870836417,0.046263152065354786,-0.03774292190319779,0.06200777467348056,0.004282039965913769,-0.023686233821773,0.0046964130180258195,1.0,-0.07360806634891151,0.08235493475702534,-0.02882870542736056],[0.2773755823336019,0.12475054982573001,0.07131077863779359,0.21286024455404287,-0.13739322372118573,-0.21963385707874591,-0.03179649205038949,-0.07360806634891151,1.0,-0.07040754319524367,-0.005899522014356625],[-0.37438331910266,0.04871745933140461,-0.04825305107763869,-0.009621170698915818,0.17770278599851244,-0.09282343747162929,-0.03346620609543324,0.08235493475702534,-0.07040754319524367,1.0,0.1001660067354874],[0.05581289099551194,-0.07282697400081348,-0.07563388422750245,0.08022091167949146,0.010910760897192517,0.0548341410888289,0.04186334541826301,-0.02882870542736056,-0.005899522014356625,0.1001660067354874,1.0]],\"texttemplate\":\"%{text:.2f}\",\"x\":[\"danceability\",\"energy\",\"loudness\",\"mode\",\"speechiness\",\"acousticness\",\"instrumentalness\",\"liveness\",\"valence\",\"tempo\",\"time_signature\"],\"y\":[\"danceability\",\"energy\",\"loudness\",\"mode\",\"speechiness\",\"acousticness\",\"instrumentalness\",\"liveness\",\"valence\",\"tempo\",\"time_signature\"],\"z\":[[1.0,-0.120641035677592,-0.2018423768588354,0.054388703582023974,-0.13006132091045008,0.03645968962139236,-0.30739295468732364,-0.04443593870836417,0.2773755823336019,-0.37438331910266,0.05581289099551194],[-0.120641035677592,1.0,0.621764457497689,-0.018926885543679373,0.2666837196651189,-0.7012751076008336,0.13116064768799274,0.046263152065354786,0.12475054982573001,0.04871745933140461,-0.07282697400081348],[-0.2018423768588354,0.621764457497689,1.0,0.1065066018887502,0.23888334360096322,-0.5569803717117661,0.10106049861255886,-0.03774292190319779,0.07131077863779359,-0.04825305107763869,-0.07563388422750245],[0.054388703582023974,-0.018926885543679373,0.1065066018887502,1.0,-0.038701666615295366,0.05039819500136892,0.11319046789432322,0.06200777467348056,0.21286024455404287,-0.009621170698915818,0.08022091167949146],[-0.13006132091045008,0.2666837196651189,0.23888334360096322,-0.038701666615295366,1.0,-0.09785372002853383,0.049729999216712076,0.004282039965913769,-0.13739322372118573,0.17770278599851244,0.010910760897192517],[0.03645968962139236,-0.7012751076008336,-0.5569803717117661,0.05039819500136892,-0.09785372002853383,1.0,-0.082986776131266,-0.023686233821773,-0.21963385707874591,-0.09282343747162929,0.0548341410888289],[-0.30739295468732364,0.13116064768799274,0.10106049861255886,0.11319046789432322,0.049729999216712076,-0.082986776131266,1.0,0.0046964130180258195,-0.03179649205038949,-0.03346620609543324,0.04186334541826301],[-0.04443593870836417,0.046263152065354786,-0.03774292190319779,0.06200777467348056,0.004282039965913769,-0.023686233821773,0.0046964130180258195,1.0,-0.07360806634891151,0.08235493475702534,-0.02882870542736056],[0.2773755823336019,0.12475054982573001,0.07131077863779359,0.21286024455404287,-0.13739322372118573,-0.21963385707874591,-0.03179649205038949,-0.07360806634891151,1.0,-0.07040754319524367,-0.005899522014356625],[-0.37438331910266,0.04871745933140461,-0.04825305107763869,-0.009621170698915818,0.17770278599851244,-0.09282343747162929,-0.03346620609543324,0.08235493475702534,-0.07040754319524367,1.0,0.1001660067354874],[0.05581289099551194,-0.07282697400081348,-0.07563388422750245,0.08022091167949146,0.010910760897192517,0.0548341410888289,0.04186334541826301,-0.02882870542736056,-0.005899522014356625,0.1001660067354874,1.0]],\"type\":\"heatmap\"}],                        {\"template\":{\"data\":{\"histogram2dcontour\":[{\"type\":\"histogram2dcontour\",\"colorbar\":{\"outlinewidth\":0,\"ticks\":\"\"},\"colorscale\":[[0.0,\"#0d0887\"],[0.1111111111111111,\"#46039f\"],[0.2222222222222222,\"#7201a8\"],[0.3333333333333333,\"#9c179e\"],[0.4444444444444444,\"#bd3786\"],[0.5555555555555556,\"#d8576b\"],[0.6666666666666666,\"#ed7953\"],[0.7777777777777778,\"#fb9f3a\"],[0.8888888888888888,\"#fdca26\"],[1.0,\"#f0f921\"]]}],\"choropleth\":[{\"type\":\"choropleth\",\"colorbar\":{\"outlinewidth\":0,\"ticks\":\"\"}}],\"histogram2d\":[{\"type\":\"histogram2d\",\"colorbar\":{\"outlinewidth\":0,\"ticks\":\"\"},\"colorscale\":[[0.0,\"#0d0887\"],[0.1111111111111111,\"#46039f\"],[0.2222222222222222,\"#7201a8\"],[0.3333333333333333,\"#9c179e\"],[0.4444444444444444,\"#bd3786\"],[0.5555555555555556,\"#d8576b\"],[0.6666666666666666,\"#ed7953\"],[0.7777777777777778,\"#fb9f3a\"],[0.8888888888888888,\"#fdca26\"],[1.0,\"#f0f921\"]]}],\"heatmap\":[{\"type\":\"heatmap\",\"colorbar\":{\"outlinewidth\":0,\"ticks\":\"\"},\"colorscale\":[[0.0,\"#0d0887\"],[0.1111111111111111,\"#46039f\"],[0.2222222222222222,\"#7201a8\"],[0.3333333333333333,\"#9c179e\"],[0.4444444444444444,\"#bd3786\"],[0.5555555555555556,\"#d8576b\"],[0.6666666666666666,\"#ed7953\"],[0.7777777777777778,\"#fb9f3a\"],[0.8888888888888888,\"#fdca26\"],[1.0,\"#f0f921\"]]}],\"heatmapgl\":[{\"type\":\"heatmapgl\",\"colorbar\":{\"outlinewidth\":0,\"ticks\":\"\"},\"colorscale\":[[0.0,\"#0d0887\"],[0.1111111111111111,\"#46039f\"],[0.2222222222222222,\"#7201a8\"],[0.3333333333333333,\"#9c179e\"],[0.4444444444444444,\"#bd3786\"],[0.5555555555555556,\"#d8576b\"],[0.6666666666666666,\"#ed7953\"],[0.7777777777777778,\"#fb9f3a\"],[0.8888888888888888,\"#fdca26\"],[1.0,\"#f0f921\"]]}],\"contourcarpet\":[{\"type\":\"contourcarpet\",\"colorbar\":{\"outlinewidth\":0,\"ticks\":\"\"}}],\"contour\":[{\"type\":\"contour\",\"colorbar\":{\"outlinewidth\":0,\"ticks\":\"\"},\"colorscale\":[[0.0,\"#0d0887\"],[0.1111111111111111,\"#46039f\"],[0.2222222222222222,\"#7201a8\"],[0.3333333333333333,\"#9c179e\"],[0.4444444444444444,\"#bd3786\"],[0.5555555555555556,\"#d8576b\"],[0.6666666666666666,\"#ed7953\"],[0.7777777777777778,\"#fb9f3a\"],[0.8888888888888888,\"#fdca26\"],[1.0,\"#f0f921\"]]}],\"surface\":[{\"type\":\"surface\",\"colorbar\":{\"outlinewidth\":0,\"ticks\":\"\"},\"colorscale\":[[0.0,\"#0d0887\"],[0.1111111111111111,\"#46039f\"],[0.2222222222222222,\"#7201a8\"],[0.3333333333333333,\"#9c179e\"],[0.4444444444444444,\"#bd3786\"],[0.5555555555555556,\"#d8576b\"],[0.6666666666666666,\"#ed7953\"],[0.7777777777777778,\"#fb9f3a\"],[0.8888888888888888,\"#fdca26\"],[1.0,\"#f0f921\"]]}],\"mesh3d\":[{\"type\":\"mesh3d\",\"colorbar\":{\"outlinewidth\":0,\"ticks\":\"\"}}],\"scatter\":[{\"fillpattern\":{\"fillmode\":\"overlay\",\"size\":10,\"solidity\":0.2},\"type\":\"scatter\"}],\"parcoords\":[{\"type\":\"parcoords\",\"line\":{\"colorbar\":{\"outlinewidth\":0,\"ticks\":\"\"}}}],\"scatterpolargl\":[{\"type\":\"scatterpolargl\",\"marker\":{\"colorbar\":{\"outlinewidth\":0,\"ticks\":\"\"}}}],\"bar\":[{\"error_x\":{\"color\":\"#2a3f5f\"},\"error_y\":{\"color\":\"#2a3f5f\"},\"marker\":{\"line\":{\"color\":\"#E5ECF6\",\"width\":0.5},\"pattern\":{\"fillmode\":\"overlay\",\"size\":10,\"solidity\":0.2}},\"type\":\"bar\"}],\"scattergeo\":[{\"type\":\"scattergeo\",\"marker\":{\"colorbar\":{\"outlinewidth\":0,\"ticks\":\"\"}}}],\"scatterpolar\":[{\"type\":\"scatterpolar\",\"marker\":{\"colorbar\":{\"outlinewidth\":0,\"ticks\":\"\"}}}],\"histogram\":[{\"marker\":{\"pattern\":{\"fillmode\":\"overlay\",\"size\":10,\"solidity\":0.2}},\"type\":\"histogram\"}],\"scattergl\":[{\"type\":\"scattergl\",\"marker\":{\"colorbar\":{\"outlinewidth\":0,\"ticks\":\"\"}}}],\"scatter3d\":[{\"type\":\"scatter3d\",\"line\":{\"colorbar\":{\"outlinewidth\":0,\"ticks\":\"\"}},\"marker\":{\"colorbar\":{\"outlinewidth\":0,\"ticks\":\"\"}}}],\"scattermapbox\":[{\"type\":\"scattermapbox\",\"marker\":{\"colorbar\":{\"outlinewidth\":0,\"ticks\":\"\"}}}],\"scatterternary\":[{\"type\":\"scatterternary\",\"marker\":{\"colorbar\":{\"outlinewidth\":0,\"ticks\":\"\"}}}],\"scattercarpet\":[{\"type\":\"scattercarpet\",\"marker\":{\"colorbar\":{\"outlinewidth\":0,\"ticks\":\"\"}}}],\"carpet\":[{\"aaxis\":{\"endlinecolor\":\"#2a3f5f\",\"gridcolor\":\"white\",\"linecolor\":\"white\",\"minorgridcolor\":\"white\",\"startlinecolor\":\"#2a3f5f\"},\"baxis\":{\"endlinecolor\":\"#2a3f5f\",\"gridcolor\":\"white\",\"linecolor\":\"white\",\"minorgridcolor\":\"white\",\"startlinecolor\":\"#2a3f5f\"},\"type\":\"carpet\"}],\"table\":[{\"cells\":{\"fill\":{\"color\":\"#EBF0F8\"},\"line\":{\"color\":\"white\"}},\"header\":{\"fill\":{\"color\":\"#C8D4E3\"},\"line\":{\"color\":\"white\"}},\"type\":\"table\"}],\"barpolar\":[{\"marker\":{\"line\":{\"color\":\"#E5ECF6\",\"width\":0.5},\"pattern\":{\"fillmode\":\"overlay\",\"size\":10,\"solidity\":0.2}},\"type\":\"barpolar\"}],\"pie\":[{\"automargin\":true,\"type\":\"pie\"}]},\"layout\":{\"autotypenumbers\":\"strict\",\"colorway\":[\"#636efa\",\"#EF553B\",\"#00cc96\",\"#ab63fa\",\"#FFA15A\",\"#19d3f3\",\"#FF6692\",\"#B6E880\",\"#FF97FF\",\"#FECB52\"],\"font\":{\"color\":\"#2a3f5f\"},\"hovermode\":\"closest\",\"hoverlabel\":{\"align\":\"left\"},\"paper_bgcolor\":\"white\",\"plot_bgcolor\":\"#E5ECF6\",\"polar\":{\"bgcolor\":\"#E5ECF6\",\"angularaxis\":{\"gridcolor\":\"white\",\"linecolor\":\"white\",\"ticks\":\"\"},\"radialaxis\":{\"gridcolor\":\"white\",\"linecolor\":\"white\",\"ticks\":\"\"}},\"ternary\":{\"bgcolor\":\"#E5ECF6\",\"aaxis\":{\"gridcolor\":\"white\",\"linecolor\":\"white\",\"ticks\":\"\"},\"baxis\":{\"gridcolor\":\"white\",\"linecolor\":\"white\",\"ticks\":\"\"},\"caxis\":{\"gridcolor\":\"white\",\"linecolor\":\"white\",\"ticks\":\"\"}},\"coloraxis\":{\"colorbar\":{\"outlinewidth\":0,\"ticks\":\"\"}},\"colorscale\":{\"sequential\":[[0.0,\"#0d0887\"],[0.1111111111111111,\"#46039f\"],[0.2222222222222222,\"#7201a8\"],[0.3333333333333333,\"#9c179e\"],[0.4444444444444444,\"#bd3786\"],[0.5555555555555556,\"#d8576b\"],[0.6666666666666666,\"#ed7953\"],[0.7777777777777778,\"#fb9f3a\"],[0.8888888888888888,\"#fdca26\"],[1.0,\"#f0f921\"]],\"sequentialminus\":[[0.0,\"#0d0887\"],[0.1111111111111111,\"#46039f\"],[0.2222222222222222,\"#7201a8\"],[0.3333333333333333,\"#9c179e\"],[0.4444444444444444,\"#bd3786\"],[0.5555555555555556,\"#d8576b\"],[0.6666666666666666,\"#ed7953\"],[0.7777777777777778,\"#fb9f3a\"],[0.8888888888888888,\"#fdca26\"],[1.0,\"#f0f921\"]],\"diverging\":[[0,\"#8e0152\"],[0.1,\"#c51b7d\"],[0.2,\"#de77ae\"],[0.3,\"#f1b6da\"],[0.4,\"#fde0ef\"],[0.5,\"#f7f7f7\"],[0.6,\"#e6f5d0\"],[0.7,\"#b8e186\"],[0.8,\"#7fbc41\"],[0.9,\"#4d9221\"],[1,\"#276419\"]]},\"xaxis\":{\"gridcolor\":\"white\",\"linecolor\":\"white\",\"ticks\":\"\",\"title\":{\"standoff\":15},\"zerolinecolor\":\"white\",\"automargin\":true,\"zerolinewidth\":2},\"yaxis\":{\"gridcolor\":\"white\",\"linecolor\":\"white\",\"ticks\":\"\",\"title\":{\"standoff\":15},\"zerolinecolor\":\"white\",\"automargin\":true,\"zerolinewidth\":2},\"scene\":{\"xaxis\":{\"backgroundcolor\":\"#E5ECF6\",\"gridcolor\":\"white\",\"linecolor\":\"white\",\"showbackground\":true,\"ticks\":\"\",\"zerolinecolor\":\"white\",\"gridwidth\":2},\"yaxis\":{\"backgroundcolor\":\"#E5ECF6\",\"gridcolor\":\"white\",\"linecolor\":\"white\",\"showbackground\":true,\"ticks\":\"\",\"zerolinecolor\":\"white\",\"gridwidth\":2},\"zaxis\":{\"backgroundcolor\":\"#E5ECF6\",\"gridcolor\":\"white\",\"linecolor\":\"white\",\"showbackground\":true,\"ticks\":\"\",\"zerolinecolor\":\"white\",\"gridwidth\":2}},\"shapedefaults\":{\"line\":{\"color\":\"#2a3f5f\"}},\"annotationdefaults\":{\"arrowcolor\":\"#2a3f5f\",\"arrowhead\":0,\"arrowwidth\":1},\"geo\":{\"bgcolor\":\"white\",\"landcolor\":\"#E5ECF6\",\"subunitcolor\":\"white\",\"showland\":true,\"showlakes\":true,\"lakecolor\":\"white\"},\"title\":{\"x\":0.05},\"mapbox\":{\"style\":\"light\"}}}},                        {\"responsive\": true}                    ).then(function(){\n",
       "                            \n",
       "var gd = document.getElementById('1707dc6d-da85-4435-9022-2bcc44f060ff');\n",
       "var x = new MutationObserver(function (mutations, observer) {{\n",
       "        var display = window.getComputedStyle(gd).display;\n",
       "        if (!display || display === 'none') {{\n",
       "            console.log([gd, 'removed!']);\n",
       "            Plotly.purge(gd);\n",
       "            observer.disconnect();\n",
       "        }}\n",
       "}});\n",
       "\n",
       "// Listen for the removal of the full notebook cells\n",
       "var notebookContainer = gd.closest('#notebook-container');\n",
       "if (notebookContainer) {{\n",
       "    x.observe(notebookContainer, {childList: true});\n",
       "}}\n",
       "\n",
       "// Listen for the clearing of the current output cell\n",
       "var outputEl = gd.closest('.output');\n",
       "if (outputEl) {{\n",
       "    x.observe(outputEl, {childList: true});\n",
       "}}\n",
       "\n",
       "                        })                };                });            </script>        </div>"
      ]
     },
     "metadata": {},
     "output_type": "display_data"
    }
   ],
   "source": [
    "# alternatively (same visualization): plotly heatmap\n",
    "fig = go.Figure()\n",
    "\n",
    "fig.add_trace(\n",
    "    go.Heatmap(\n",
    "        x = corr.columns,\n",
    "        y = corr.index,\n",
    "        z = np.array(corr),\n",
    "        text=corr.values,\n",
    "        texttemplate='%{text:.2f}'\n",
    "    )\n",
    ")\n",
    "\n",
    "fig.show()"
   ]
  },
  {
   "cell_type": "code",
   "execution_count": 18,
   "id": "37601af1-f265-4850-b40c-1ac6c4888cba",
   "metadata": {},
   "outputs": [],
   "source": [
    "by_album = df.groupby(by='Album')"
   ]
  },
  {
   "cell_type": "code",
   "execution_count": 28,
   "id": "58335ded-ad92-4f44-9787-9e79168e2585",
   "metadata": {},
   "outputs": [
    {
     "data": {
      "text/html": [
       "<div>\n",
       "<style scoped>\n",
       "    .dataframe tbody tr th:only-of-type {\n",
       "        vertical-align: middle;\n",
       "    }\n",
       "\n",
       "    .dataframe tbody tr th {\n",
       "        vertical-align: top;\n",
       "    }\n",
       "\n",
       "    .dataframe thead th {\n",
       "        text-align: right;\n",
       "    }\n",
       "</style>\n",
       "<table border=\"1\" class=\"dataframe\">\n",
       "  <thead>\n",
       "    <tr style=\"text-align: right;\">\n",
       "      <th></th>\n",
       "      <th>danceability</th>\n",
       "      <th>energy</th>\n",
       "      <th>key</th>\n",
       "      <th>loudness</th>\n",
       "      <th>mode</th>\n",
       "      <th>speechiness</th>\n",
       "      <th>acousticness</th>\n",
       "      <th>instrumentalness</th>\n",
       "      <th>liveness</th>\n",
       "      <th>valence</th>\n",
       "      <th>tempo</th>\n",
       "      <th>time_signature</th>\n",
       "      <th>duration</th>\n",
       "    </tr>\n",
       "    <tr>\n",
       "      <th>Album</th>\n",
       "      <th></th>\n",
       "      <th></th>\n",
       "      <th></th>\n",
       "      <th></th>\n",
       "      <th></th>\n",
       "      <th></th>\n",
       "      <th></th>\n",
       "      <th></th>\n",
       "      <th></th>\n",
       "      <th></th>\n",
       "      <th></th>\n",
       "      <th></th>\n",
       "      <th></th>\n",
       "    </tr>\n",
       "  </thead>\n",
       "  <tbody>\n",
       "    <tr>\n",
       "      <th>Angles</th>\n",
       "      <td>0.555000</td>\n",
       "      <td>0.746200</td>\n",
       "      <td>4.500000</td>\n",
       "      <td>-5.756400</td>\n",
       "      <td>0.700000</td>\n",
       "      <td>0.044800</td>\n",
       "      <td>0.094966</td>\n",
       "      <td>0.166427</td>\n",
       "      <td>0.135070</td>\n",
       "      <td>0.563100</td>\n",
       "      <td>143.285700</td>\n",
       "      <td>3.900000</td>\n",
       "      <td>205.293334</td>\n",
       "    </tr>\n",
       "    <tr>\n",
       "      <th>Comedown Machine</th>\n",
       "      <td>0.570273</td>\n",
       "      <td>0.718818</td>\n",
       "      <td>4.909091</td>\n",
       "      <td>-7.592909</td>\n",
       "      <td>0.727273</td>\n",
       "      <td>0.038909</td>\n",
       "      <td>0.131501</td>\n",
       "      <td>0.424473</td>\n",
       "      <td>0.176491</td>\n",
       "      <td>0.501364</td>\n",
       "      <td>117.008000</td>\n",
       "      <td>4.000000</td>\n",
       "      <td>217.727275</td>\n",
       "    </tr>\n",
       "    <tr>\n",
       "      <th>First Impressions Of Earth</th>\n",
       "      <td>0.467000</td>\n",
       "      <td>0.822500</td>\n",
       "      <td>7.500000</td>\n",
       "      <td>-4.162929</td>\n",
       "      <td>0.785714</td>\n",
       "      <td>0.046000</td>\n",
       "      <td>0.064945</td>\n",
       "      <td>0.429583</td>\n",
       "      <td>0.186636</td>\n",
       "      <td>0.511500</td>\n",
       "      <td>126.323643</td>\n",
       "      <td>3.928571</td>\n",
       "      <td>223.043809</td>\n",
       "    </tr>\n",
       "    <tr>\n",
       "      <th>Future Present Past</th>\n",
       "      <td>0.485000</td>\n",
       "      <td>0.750500</td>\n",
       "      <td>3.750000</td>\n",
       "      <td>-5.931000</td>\n",
       "      <td>0.500000</td>\n",
       "      <td>0.045500</td>\n",
       "      <td>0.096279</td>\n",
       "      <td>0.491525</td>\n",
       "      <td>0.174250</td>\n",
       "      <td>0.455250</td>\n",
       "      <td>140.272250</td>\n",
       "      <td>4.000000</td>\n",
       "      <td>292.315657</td>\n",
       "    </tr>\n",
       "    <tr>\n",
       "      <th>Is This It</th>\n",
       "      <td>0.532545</td>\n",
       "      <td>0.761182</td>\n",
       "      <td>3.727273</td>\n",
       "      <td>-6.997182</td>\n",
       "      <td>0.818182</td>\n",
       "      <td>0.034464</td>\n",
       "      <td>0.049898</td>\n",
       "      <td>0.268180</td>\n",
       "      <td>0.154691</td>\n",
       "      <td>0.743364</td>\n",
       "      <td>128.572273</td>\n",
       "      <td>4.000000</td>\n",
       "      <td>191.976970</td>\n",
       "    </tr>\n",
       "    <tr>\n",
       "      <th>Room On Fire</th>\n",
       "      <td>0.476273</td>\n",
       "      <td>0.750909</td>\n",
       "      <td>6.272727</td>\n",
       "      <td>-4.454545</td>\n",
       "      <td>1.000000</td>\n",
       "      <td>0.034673</td>\n",
       "      <td>0.066942</td>\n",
       "      <td>0.776545</td>\n",
       "      <td>0.160318</td>\n",
       "      <td>0.646727</td>\n",
       "      <td>123.547636</td>\n",
       "      <td>4.000000</td>\n",
       "      <td>180.476365</td>\n",
       "    </tr>\n",
       "    <tr>\n",
       "      <th>The New Abnormal</th>\n",
       "      <td>0.507111</td>\n",
       "      <td>0.663111</td>\n",
       "      <td>4.000000</td>\n",
       "      <td>-4.919111</td>\n",
       "      <td>0.777778</td>\n",
       "      <td>0.040400</td>\n",
       "      <td>0.202389</td>\n",
       "      <td>0.061375</td>\n",
       "      <td>0.145611</td>\n",
       "      <td>0.340978</td>\n",
       "      <td>127.807444</td>\n",
       "      <td>4.000000</td>\n",
       "      <td>301.214814</td>\n",
       "    </tr>\n",
       "    <tr>\n",
       "      <th>The Singles - Volume 01</th>\n",
       "      <td>0.469583</td>\n",
       "      <td>0.673417</td>\n",
       "      <td>4.083333</td>\n",
       "      <td>-6.918083</td>\n",
       "      <td>0.833333</td>\n",
       "      <td>0.051042</td>\n",
       "      <td>0.181607</td>\n",
       "      <td>0.242428</td>\n",
       "      <td>0.209725</td>\n",
       "      <td>0.553083</td>\n",
       "      <td>144.576250</td>\n",
       "      <td>4.000000</td>\n",
       "      <td>181.327249</td>\n",
       "    </tr>\n",
       "  </tbody>\n",
       "</table>\n",
       "</div>"
      ],
      "text/plain": [
       "                            danceability    energy       key  loudness  \\\n",
       "Album                                                                    \n",
       "Angles                          0.555000  0.746200  4.500000 -5.756400   \n",
       "Comedown Machine                0.570273  0.718818  4.909091 -7.592909   \n",
       "First Impressions Of Earth      0.467000  0.822500  7.500000 -4.162929   \n",
       "Future Present Past             0.485000  0.750500  3.750000 -5.931000   \n",
       "Is This It                      0.532545  0.761182  3.727273 -6.997182   \n",
       "Room On Fire                    0.476273  0.750909  6.272727 -4.454545   \n",
       "The New Abnormal                0.507111  0.663111  4.000000 -4.919111   \n",
       "The Singles - Volume 01         0.469583  0.673417  4.083333 -6.918083   \n",
       "\n",
       "                                mode  speechiness  acousticness  \\\n",
       "Album                                                             \n",
       "Angles                      0.700000     0.044800      0.094966   \n",
       "Comedown Machine            0.727273     0.038909      0.131501   \n",
       "First Impressions Of Earth  0.785714     0.046000      0.064945   \n",
       "Future Present Past         0.500000     0.045500      0.096279   \n",
       "Is This It                  0.818182     0.034464      0.049898   \n",
       "Room On Fire                1.000000     0.034673      0.066942   \n",
       "The New Abnormal            0.777778     0.040400      0.202389   \n",
       "The Singles - Volume 01     0.833333     0.051042      0.181607   \n",
       "\n",
       "                            instrumentalness  liveness   valence       tempo  \\\n",
       "Album                                                                          \n",
       "Angles                              0.166427  0.135070  0.563100  143.285700   \n",
       "Comedown Machine                    0.424473  0.176491  0.501364  117.008000   \n",
       "First Impressions Of Earth          0.429583  0.186636  0.511500  126.323643   \n",
       "Future Present Past                 0.491525  0.174250  0.455250  140.272250   \n",
       "Is This It                          0.268180  0.154691  0.743364  128.572273   \n",
       "Room On Fire                        0.776545  0.160318  0.646727  123.547636   \n",
       "The New Abnormal                    0.061375  0.145611  0.340978  127.807444   \n",
       "The Singles - Volume 01             0.242428  0.209725  0.553083  144.576250   \n",
       "\n",
       "                            time_signature    duration  \n",
       "Album                                                   \n",
       "Angles                            3.900000  205.293334  \n",
       "Comedown Machine                  4.000000  217.727275  \n",
       "First Impressions Of Earth        3.928571  223.043809  \n",
       "Future Present Past               4.000000  292.315657  \n",
       "Is This It                        4.000000  191.976970  \n",
       "Room On Fire                      4.000000  180.476365  \n",
       "The New Abnormal                  4.000000  301.214814  \n",
       "The Singles - Volume 01           4.000000  181.327249  "
      ]
     },
     "execution_count": 28,
     "metadata": {},
     "output_type": "execute_result"
    }
   ],
   "source": [
    "by_album.mean()"
   ]
  },
  {
   "cell_type": "code",
   "execution_count": 36,
   "id": "51f614a3-b96e-4822-8560-ab6bdce5bdd2",
   "metadata": {},
   "outputs": [],
   "source": [
    "stats_by_album = by_album.describe(percentiles=[])"
   ]
  },
  {
   "cell_type": "code",
   "execution_count": 37,
   "id": "bad1253e-755f-4eda-af0e-a8827529ace2",
   "metadata": {},
   "outputs": [],
   "source": [
    "stats_by_album.to_json('src/stats_by_album.json', orient='columns')\n",
    "stats_by_album.to_excel('src/stats_by_album.xlsx')"
   ]
  },
  {
   "cell_type": "markdown",
   "id": "b6373c03-ee28-40ff-8cec-f7d35326bc56",
   "metadata": {},
   "source": [
    "next: by top 10 songs\n",
    "limitations: spotify's audio feature analysis is very under the hood, numbers dont mean all that much"
   ]
  }
 ],
 "metadata": {
  "kernelspec": {
   "display_name": "Python 3 (ipykernel)",
   "language": "python",
   "name": "python3"
  },
  "language_info": {
   "codemirror_mode": {
    "name": "ipython",
    "version": 3
   },
   "file_extension": ".py",
   "mimetype": "text/x-python",
   "name": "python",
   "nbconvert_exporter": "python",
   "pygments_lexer": "ipython3",
   "version": "3.10.9"
  }
 },
 "nbformat": 4,
 "nbformat_minor": 5
}
