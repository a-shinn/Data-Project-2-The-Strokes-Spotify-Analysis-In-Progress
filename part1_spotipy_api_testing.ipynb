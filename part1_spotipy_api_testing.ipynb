{
 "cells": [
  {
   "cell_type": "code",
   "execution_count": 2,
   "id": "978f4c96-7c1c-4b7d-acb4-884db51e31ba",
   "metadata": {},
   "outputs": [],
   "source": [
    "import spotipy\n",
    "from config import CLIENT_ID, CLIENT_SECRET, PLAY_LIST, USER, DIRECT_URI\n",
    "from spotipy.oauth2 import SpotifyClientCredentials\n",
    "import pandas as pd\n",
    "import numpy as np\n",
    "from tqdm.notebook import tqdm"
   ]
  },
  {
   "cell_type": "code",
   "execution_count": 3,
   "id": "ad42e0b8",
   "metadata": {
    "scrolled": true
   },
   "outputs": [],
   "source": [
    "spotify = spotipy.Spotify(requests_timeout=10, client_credentials_manager=SpotifyClientCredentials(client_id=CLIENT_ID,\n",
    "                                                                              client_secret=CLIENT_SECRET))\n",
    "the_strokes_uri = 'https://open.spotify.com/artist/0epOFNiUfyON9EYx7Tpr6V'"
   ]
  },
  {
   "cell_type": "markdown",
   "id": "3194a817-d023-40b2-9956-50d40b79d548",
   "metadata": {},
   "source": [
    "# Getting All Track Data"
   ]
  },
  {
   "cell_type": "code",
   "execution_count": 4,
   "id": "2e6f44b9-02ed-4fa5-ba3a-46f77b91c3f8",
   "metadata": {
    "tags": []
   },
   "outputs": [],
   "source": [
    "results_all_tracks = spotify.playlist_tracks('https://open.spotify.com/playlist/1cyjmzQGadZ5vrGMjUijgI?si=26e84ab01fc749f3')"
   ]
  },
  {
   "cell_type": "code",
   "execution_count": 7,
   "id": "72f1bcb1-0817-4734-afd8-2fa2e2a13942",
   "metadata": {},
   "outputs": [],
   "source": [
    "def get_track_statistics(tracks):\n",
    "    \"\"\"takes tracks and returns a dictionary of their analysis and features\"\"\"\n",
    "    dict_ = {}\n",
    "    # looping through each track and creating nested dictionary where the keys are the track names and the values are the merged track audio analyses and features data\n",
    "    for track in tqdm(tracks['items']):\n",
    "        dict_[track['track']['name']] =  {'Album': track['track']['album']['name']} | spotify.audio_features(track['track']['id'])[0] | spotify.audio_analysis(track['track']['id'])['track']\n",
    "    return dict_"
   ]
  },
  {
   "cell_type": "code",
   "execution_count": 14,
   "id": "3248b51b-d2f8-4be0-8a68-b68f9fb9f7cf",
   "metadata": {},
   "outputs": [
    {
     "data": {
      "application/vnd.jupyter.widget-view+json": {
       "model_id": "a4080e2e432e4f2abed5f55f0e08b6c8",
       "version_major": 2,
       "version_minor": 0
      },
      "text/plain": [
       "  0%|         | 0/91 [00:00<?, ?it/s]"
      ]
     },
     "metadata": {},
     "output_type": "display_data"
    }
   ],
   "source": [
    "# audio features & analysis data for all tracks globally\n",
    "all_tracks = get_track_statistics(results_all_tracks)"
   ]
  },
  {
   "cell_type": "code",
   "execution_count": 15,
   "id": "f80c8790-dd6c-481e-8d24-ca1e0e072844",
   "metadata": {
    "tags": []
   },
   "outputs": [],
   "source": [
    "# Removing unnecessary columns\n",
    "for track in all_tracks:\n",
    "    del all_tracks[track]['codestring']\n",
    "    del all_tracks[track]['echoprintstring']\n",
    "    del all_tracks[track]['synchstring']\n",
    "    del all_tracks[track]['rhythmstring']\n",
    "    del all_tracks[track]['sample_md5']\n",
    "    del all_tracks[track]['offset_seconds']\n",
    "    del all_tracks[track]['window_seconds']\n",
    "    del all_tracks[track]['analysis_sample_rate']\n",
    "    del all_tracks[track]['analysis_channels']\n",
    "    del all_tracks[track]['tempo_confidence']\n",
    "    del all_tracks[track]['time_signature_confidence']\n",
    "    del all_tracks[track]['key_confidence']\n",
    "    del all_tracks[track]['mode_confidence']\n",
    "    del all_tracks[track]['code_version']\n",
    "    del all_tracks[track]['echoprint_version']\n",
    "    del all_tracks[track]['synch_version']\n",
    "    del all_tracks[track]['rhythm_version']\n",
    "    del all_tracks[track]['type']\n",
    "    del all_tracks[track]['id']\n",
    "    del all_tracks[track]['uri']\n",
    "    del all_tracks[track]['track_href']\n",
    "    del all_tracks[track]['analysis_url']\n",
    "    del all_tracks[track]['end_of_fade_in']\n",
    "    del all_tracks[track]['start_of_fade_out']\n",
    "    del all_tracks[track]['duration_ms']\n",
    "    del all_tracks[track]['num_samples']"
   ]
  },
  {
   "cell_type": "code",
   "execution_count": 16,
   "id": "82d805c1-8e41-477b-b0a7-f3de44668943",
   "metadata": {
    "tags": []
   },
   "outputs": [
    {
     "data": {
      "text/plain": [
       "dict_keys(['The Modern Age - Rough Trade Version', 'Last Nite - Rough Trade Version - The Modern Age B-Side', 'Hard To Explain', 'New York City Cops (Hard to Explain B-Side)', 'Last Nite', 'When It Started (Last Nite B-Side)', 'Someday', 'Alone, Together - Home Recording - Someday B-Side', 'Is This It - Home Recording - Someday B-Side', '12:51', 'The Way It Is - Home Recording - 12:51 B-Side', 'Reptilia', 'Modern Girls & Old Fashion Men - Reptilia B-Side', 'The End Has No End', 'Clampdown - The End Has No End B-Side / Live at Alexandra Palace, London, UK - Dec. 5, 2003', 'Juicebox', 'Hawaii - Juicebox B-Side', 'Heart In a Cage', 'I\\'ll Try Anything Once (\"You Only Live Once\" demo) - Heart In a Cage B-Side', 'You Only Live Once', 'Mercy Mercy Me (The Ecology) - You Only Live Once B-Side', 'The Adults Are Talking', 'Selfless', 'Brooklyn Bridge To Chorus', 'Bad Decisions', 'Eternal Summer', 'At The Door', 'Why Are Sundays So Depressing', 'Not The Same Anymore', 'Ode To The Mets', 'Is This It', 'The Modern Age', 'Soma', 'Barely Legal', 'Alone, Together', 'When It Started', 'Trying Your Luck', 'Take It Or Leave It', 'What Ever Happened?', 'Automatic Stop', 'You Talk Way Too Much', 'Between Love & Hate', 'Meet Me in the Bathroom', 'Under Control', 'The Way It Is', \"I Can't Win\", 'Razorblade', 'On the Other Side', 'Vision of Division', 'Ask Me Anything', 'Electricityscape', 'Killing Lies', 'Fear of Sleep', '15 Minutes', 'Ize of the World', 'Evening Sun', 'Red Light', 'Machu Picchu', 'Under Cover of Darkness', 'Two Kinds of Happiness', \"You're So Right\", 'Taken for a Fool', 'Games', 'Call Me Back', 'Gratisfaction', 'Metabolism', 'Life Is Simple in the Moonlight', 'Tap Out', 'All The Time', 'One Way Trigger', 'Welcome To Japan', \"80's Comedown Machine\", '50/50', 'Slow Animals', 'Partners In Crime', 'Chances', 'Happy Ending', 'Call It Fate, Call It Karma', 'Drag Queen', 'OBLIVIUS', 'Threat of Joy', 'OBLIVIUS - Moretti Remix'])"
      ]
     },
     "execution_count": 16,
     "metadata": {},
     "output_type": "execute_result"
    }
   ],
   "source": [
    "all_tracks.keys()"
   ]
  },
  {
   "cell_type": "markdown",
   "id": "2aae59c3-bfe9-4d86-9f16-ed2157dcd508",
   "metadata": {},
   "source": [
    "# Getting Top 10 Tracks Data & Popularity"
   ]
  },
  {
   "cell_type": "code",
   "execution_count": 30,
   "id": "2a3d2e5f-942b-481b-952d-1aedc22b7eda",
   "metadata": {
    "tags": []
   },
   "outputs": [],
   "source": [
    "results_top_tracks = spotify.artist_top_tracks(the_strokes_uri)"
   ]
  },
  {
   "cell_type": "code",
   "execution_count": 54,
   "id": "518a4570-abe4-4860-8c5f-871f8b46b4f2",
   "metadata": {},
   "outputs": [],
   "source": [
    "def get_top_track_statistics(tracks):\n",
    "    \"\"\"takes top tracks and returns a dictionary of their analysis and features\"\"\"\n",
    "    dict_ = {}\n",
    "    # looping through each track and creating nested dictionary where the keys are the track names and the values are the merged track audio analyses and features data\n",
    "    for track in tqdm(tracks['tracks']):\n",
    "        dict_[track['name']] =  {'Album': track['album']['name']} | spotify.audio_features(track['id'])[0] | spotify.audio_analysis(track['id'])['track'] | {'Popularity': track['popularity']}\n",
    "    return dict_"
   ]
  },
  {
   "cell_type": "code",
   "execution_count": 55,
   "id": "7395ef19-2cf1-4377-a32b-83edb447c287",
   "metadata": {},
   "outputs": [
    {
     "data": {
      "application/vnd.jupyter.widget-view+json": {
       "model_id": "c91b2a8d100449c993b3098eaf7d2b6c",
       "version_major": 2,
       "version_minor": 0
      },
      "text/plain": [
       "  0%|          | 0/10 [00:00<?, ?it/s]"
      ]
     },
     "metadata": {},
     "output_type": "display_data"
    }
   ],
   "source": [
    "# audio features & analysis data for top_tracks\n",
    "top_tracks = get_top_track_statistics(results_top_tracks)"
   ]
  },
  {
   "cell_type": "code",
   "execution_count": 56,
   "id": "cb39b0c0-c9de-4677-83fe-2dce40dd731c",
   "metadata": {},
   "outputs": [],
   "source": [
    "# Removing unnecessary columns\n",
    "for track in top_tracks:\n",
    "    del top_tracks[track]['codestring']\n",
    "    del top_tracks[track]['echoprintstring']\n",
    "    del top_tracks[track]['synchstring']\n",
    "    del top_tracks[track]['rhythmstring']\n",
    "    del top_tracks[track]['sample_md5']\n",
    "    del top_tracks[track]['offset_seconds']\n",
    "    del top_tracks[track]['window_seconds']\n",
    "    del top_tracks[track]['analysis_sample_rate']\n",
    "    del top_tracks[track]['analysis_channels']\n",
    "    del top_tracks[track]['tempo_confidence']\n",
    "    del top_tracks[track]['time_signature_confidence']\n",
    "    del top_tracks[track]['key_confidence']\n",
    "    del top_tracks[track]['mode_confidence']\n",
    "    del top_tracks[track]['code_version']\n",
    "    del top_tracks[track]['echoprint_version']\n",
    "    del top_tracks[track]['synch_version']\n",
    "    del top_tracks[track]['rhythm_version']\n",
    "    del top_tracks[track]['type']\n",
    "    del top_tracks[track]['id']\n",
    "    del top_tracks[track]['uri']\n",
    "    del top_tracks[track]['track_href']\n",
    "    del top_tracks[track]['analysis_url']\n",
    "    del top_tracks[track]['end_of_fade_in']\n",
    "    del top_tracks[track]['start_of_fade_out']\n",
    "    del top_tracks[track]['duration_ms']\n",
    "    del top_tracks[track]['num_samples']"
   ]
  },
  {
   "cell_type": "markdown",
   "id": "3206a29c-0056-4584-a6b3-ecf1e877a45e",
   "metadata": {
    "tags": []
   },
   "source": [
    "### ~~Getting Track Data By Country~~\n",
    "(after testing this unfortunately doesn't work, it's the same data but just filters out songs not available in that country's Spotify market)"
   ]
  },
  {
   "cell_type": "code",
   "execution_count": 9,
   "id": "c25ac9ef-bef1-45df-ba40-3afa4b0e8ee9",
   "metadata": {
    "tags": []
   },
   "outputs": [],
   "source": [
    "# # getting top_tracks for every country where Spotify is available\n",
    "# top_tracks_all_countries = {}\n",
    "# for country_code in tqdm(spotify.available_markets()['markets']):\n",
    "#     top_tracks_all_countries[country_code] = spotify.artist_top_tracks(the_strokes_uri, country = country_code)\n",
    "\n",
    "# def get_top_tracks_by_country(tracks):\n",
    "#     \"\"\"looping through each country and creating simple dictionary of country name: top 10 tracks in order and popularity\"\"\"\n",
    "#     result_dict_ = {}\n",
    "#     for country in tqdm(list(tracks.keys())):\n",
    "#         top_10_list = []\n",
    "#         for track in tracks[country]['tracks']:\n",
    "#             top_10_list.append(track['name'])\n",
    "#         result_dict_[country] = top_10_list\n",
    "#     return result_dict_\n",
    "\n",
    "# top_tracks_by_country = get_top_tracks_by_country(top_tracks_all_countries)\n",
    "# top_tracks_by_country"
   ]
  },
  {
   "cell_type": "markdown",
   "id": "7c0037ab-4207-4565-8b83-8b5ada80ed5c",
   "metadata": {},
   "source": [
    "# Conversion to Dataframe"
   ]
  },
  {
   "cell_type": "code",
   "execution_count": 62,
   "id": "2b9fc0cf-e724-4384-aa2c-7da468b1f29d",
   "metadata": {
    "tags": []
   },
   "outputs": [],
   "source": [
    "df_all_tracks = pd.DataFrame(all_tracks).T\n",
    "df_top_tracks = pd.DataFrame(top_tracks).T"
   ]
  },
  {
   "cell_type": "code",
   "execution_count": 64,
   "id": "a17ab2dd-ea56-4d8e-8406-6ce5a4a97f3b",
   "metadata": {},
   "outputs": [
    {
     "data": {
      "text/plain": [
       "Album               Is This It\n",
       "danceability             0.539\n",
       "energy                   0.521\n",
       "key                          9\n",
       "loudness                 -7.46\n",
       "mode                         1\n",
       "speechiness             0.0299\n",
       "acousticness           0.00425\n",
       "instrumentalness             0\n",
       "liveness                 0.367\n",
       "valence                  0.679\n",
       "tempo                  106.035\n",
       "time_signature               4\n",
       "duration                183.44\n",
       "Name: Someday, dtype: object"
      ]
     },
     "execution_count": 64,
     "metadata": {},
     "output_type": "execute_result"
    }
   ],
   "source": [
    "df_all_tracks.loc['Someday']"
   ]
  },
  {
   "cell_type": "code",
   "execution_count": 61,
   "id": "a6842ad6-66ac-497f-b737-2de653f351ba",
   "metadata": {},
   "outputs": [],
   "source": [
    "df_all_tracks.to_json('src/all_tracks.json', orient='columns')\n",
    "df_all_tracks.to_excel('src/all_tracks.xlsx')\n",
    "\n",
    "df_top_tracks.to_json('src/top_tracks.json', orient='columns')\n",
    "df_top_tracks.to_excel('src/top_tracks.xlsx')"
   ]
  },
  {
   "cell_type": "markdown",
   "id": "4ec9a343-894b-40b3-a22f-817698afdf8d",
   "metadata": {},
   "source": [
    "potential visualizations:\n",
    "group by album, top tracks vs others\n",
    "correlation between rankings and audio features\n",
    "audio features by song\n",
    "map by country - popularity, top tracks"
   ]
  }
 ],
 "metadata": {
  "kernelspec": {
   "display_name": "Python 3 (ipykernel)",
   "language": "python",
   "name": "python3"
  },
  "language_info": {
   "codemirror_mode": {
    "name": "ipython",
    "version": 3
   },
   "file_extension": ".py",
   "mimetype": "text/x-python",
   "name": "python",
   "nbconvert_exporter": "python",
   "pygments_lexer": "ipython3",
   "version": "3.10.9"
  }
 },
 "nbformat": 4,
 "nbformat_minor": 5
}
